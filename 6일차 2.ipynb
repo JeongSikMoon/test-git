{
 "cells": [
  {
   "cell_type": "code",
   "execution_count": 1,
   "metadata": {},
   "outputs": [],
   "source": [
    "a = [(x,y) for x in range(10) for y in range(10)]"
   ]
  },
  {
   "cell_type": "code",
   "execution_count": 2,
   "metadata": {},
   "outputs": [],
   "source": [
    "a = [x+1 for x in range(10)]"
   ]
  },
  {
   "cell_type": "code",
   "execution_count": 3,
   "metadata": {},
   "outputs": [
    {
     "data": {
      "text/plain": [
       "[1, 2, 3, 4, 5, 6, 7, 8, 9, 10]"
      ]
     },
     "execution_count": 3,
     "metadata": {},
     "output_type": "execute_result"
    }
   ],
   "source": [
    "a"
   ]
  },
  {
   "cell_type": "code",
   "execution_count": 4,
   "metadata": {},
   "outputs": [],
   "source": [
    "a = [x for x in range(10) if x>5] #range에서 if체크후 앞으로 간다."
   ]
  },
  {
   "cell_type": "code",
   "execution_count": 5,
   "metadata": {},
   "outputs": [
    {
     "data": {
      "text/plain": [
       "[6, 7, 8, 9]"
      ]
     },
     "execution_count": 5,
     "metadata": {},
     "output_type": "execute_result"
    }
   ],
   "source": [
    "a"
   ]
  },
  {
   "cell_type": "code",
   "execution_count": 12,
   "metadata": {},
   "outputs": [],
   "source": [
    "a = (x for x in range(10))"
   ]
  },
  {
   "cell_type": "code",
   "execution_count": 13,
   "metadata": {},
   "outputs": [
    {
     "data": {
      "text/plain": [
       "<generator object <genexpr> at 0x000001350E8340C0>"
      ]
     },
     "execution_count": 13,
     "metadata": {},
     "output_type": "execute_result"
    }
   ],
   "source": [
    "a"
   ]
  },
  {
   "cell_type": "code",
   "execution_count": 14,
   "metadata": {},
   "outputs": [],
   "source": [
    "a = (x for x in range(10)) #tuple은 제너레이터"
   ]
  },
  {
   "cell_type": "code",
   "execution_count": 15,
   "metadata": {},
   "outputs": [
    {
     "data": {
      "text/plain": [
       "0"
      ]
     },
     "execution_count": 15,
     "metadata": {},
     "output_type": "execute_result"
    }
   ],
   "source": [
    "next(a)"
   ]
  },
  {
   "cell_type": "markdown",
   "metadata": {},
   "source": [
    "tuple형태의 comprehension\n"
   ]
  },
  {
   "cell_type": "code",
   "execution_count": 41,
   "metadata": {},
   "outputs": [],
   "source": [
    "import dis"
   ]
  },
  {
   "cell_type": "code",
   "execution_count": 21,
   "metadata": {},
   "outputs": [
    {
     "name": "stdout",
     "output_type": "stream",
     "text": [
      "1.02 µs ± 6.74 ns per loop (mean ± std. dev. of 7 runs, 1000000 loops each)\n"
     ]
    }
   ],
   "source": [
    "%timeit sum(x for x in range(20))"
   ]
  },
  {
   "cell_type": "code",
   "execution_count": 22,
   "metadata": {},
   "outputs": [
    {
     "name": "stdout",
     "output_type": "stream",
     "text": [
      "352 ns ± 5.25 ns per loop (mean ± std. dev. of 7 runs, 1000000 loops each)\n"
     ]
    }
   ],
   "source": [
    "%timeit sum(range(20))"
   ]
  },
  {
   "cell_type": "code",
   "execution_count": 23,
   "metadata": {},
   "outputs": [
    {
     "name": "stdout",
     "output_type": "stream",
     "text": [
      "802 ns ± 7.56 ns per loop (mean ± std. dev. of 7 runs, 1000000 loops each)\n"
     ]
    }
   ],
   "source": [
    "%timeit sum([x for x in range(20)])"
   ]
  },
  {
   "cell_type": "code",
   "execution_count": 36,
   "metadata": {},
   "outputs": [
    {
     "name": "stdout",
     "output_type": "stream",
     "text": [
      "1.02 µs ± 7.09 ns per loop (mean ± std. dev. of 7 runs, 1000000 loops each)\n"
     ]
    }
   ],
   "source": [
    "%timeit sum((x for x in range(20)))"
   ]
  },
  {
   "cell_type": "code",
   "execution_count": 46,
   "metadata": {},
   "outputs": [],
   "source": [
    "t = sum((x for x in range(10)))"
   ]
  },
  {
   "cell_type": "code",
   "execution_count": 47,
   "metadata": {},
   "outputs": [
    {
     "name": "stdout",
     "output_type": "stream",
     "text": [
      " 43           0 LOAD_FAST                0 (x)\n",
      "              2 LOAD_CONST               1 (None)\n",
      "              4 COMPARE_OP               8 (is)\n",
      "              6 POP_JUMP_IF_FALSE       22\n",
      "\n",
      " 44           8 LOAD_GLOBAL              0 (distb)\n",
      "             10 LOAD_FAST                1 (file)\n",
      "             12 LOAD_CONST               2 (('file',))\n",
      "             14 CALL_FUNCTION_KW         1\n",
      "             16 POP_TOP\n",
      "\n",
      " 45          18 LOAD_CONST               1 (None)\n",
      "             20 RETURN_VALUE\n",
      "\n",
      " 47     >>   22 LOAD_GLOBAL              1 (hasattr)\n",
      "             24 LOAD_FAST                0 (x)\n",
      "             26 LOAD_CONST               3 ('__func__')\n",
      "             28 CALL_FUNCTION            2\n",
      "             30 POP_JUMP_IF_FALSE       38\n",
      "\n",
      " 48          32 LOAD_FAST                0 (x)\n",
      "             34 LOAD_ATTR                2 (__func__)\n",
      "             36 STORE_FAST               0 (x)\n",
      "\n",
      " 50     >>   38 LOAD_GLOBAL              1 (hasattr)\n",
      "             40 LOAD_FAST                0 (x)\n",
      "             42 LOAD_CONST               4 ('__code__')\n",
      "             44 CALL_FUNCTION            2\n",
      "             46 POP_JUMP_IF_FALSE       56\n",
      "\n",
      " 51          48 LOAD_FAST                0 (x)\n",
      "             50 LOAD_ATTR                3 (__code__)\n",
      "             52 STORE_FAST               0 (x)\n",
      "             54 JUMP_FORWARD            52 (to 108)\n",
      "\n",
      " 52     >>   56 LOAD_GLOBAL              1 (hasattr)\n",
      "             58 LOAD_FAST                0 (x)\n",
      "             60 LOAD_CONST               5 ('gi_code')\n",
      "             62 CALL_FUNCTION            2\n",
      "             64 POP_JUMP_IF_FALSE       74\n",
      "\n",
      " 53          66 LOAD_FAST                0 (x)\n",
      "             68 LOAD_ATTR                4 (gi_code)\n",
      "             70 STORE_FAST               0 (x)\n",
      "             72 JUMP_FORWARD            34 (to 108)\n",
      "\n",
      " 54     >>   74 LOAD_GLOBAL              1 (hasattr)\n",
      "             76 LOAD_FAST                0 (x)\n",
      "             78 LOAD_CONST               6 ('ag_code')\n",
      "             80 CALL_FUNCTION            2\n",
      "             82 POP_JUMP_IF_FALSE       92\n",
      "\n",
      " 55          84 LOAD_FAST                0 (x)\n",
      "             86 LOAD_ATTR                5 (ag_code)\n",
      "             88 STORE_FAST               0 (x)\n",
      "             90 JUMP_FORWARD            16 (to 108)\n",
      "\n",
      " 56     >>   92 LOAD_GLOBAL              1 (hasattr)\n",
      "             94 LOAD_FAST                0 (x)\n",
      "             96 LOAD_CONST               7 ('cr_code')\n",
      "             98 CALL_FUNCTION            2\n",
      "            100 POP_JUMP_IF_FALSE      108\n",
      "\n",
      " 57         102 LOAD_FAST                0 (x)\n",
      "            104 LOAD_ATTR                6 (cr_code)\n",
      "            106 STORE_FAST               0 (x)\n",
      "\n",
      " 59     >>  108 LOAD_GLOBAL              1 (hasattr)\n",
      "            110 LOAD_FAST                0 (x)\n",
      "            112 LOAD_CONST               8 ('__dict__')\n",
      "            114 CALL_FUNCTION            2\n",
      "            116 EXTENDED_ARG             1\n",
      "            118 POP_JUMP_IF_FALSE      258\n",
      "\n",
      " 60         120 LOAD_GLOBAL              7 (sorted)\n",
      "            122 LOAD_FAST                0 (x)\n",
      "            124 LOAD_ATTR                8 (__dict__)\n",
      "            126 LOAD_METHOD              9 (items)\n",
      "            128 CALL_METHOD              0\n",
      "            130 CALL_FUNCTION            1\n",
      "            132 STORE_FAST               3 (items)\n",
      "\n",
      " 61         134 SETUP_LOOP             226 (to 362)\n",
      "            136 LOAD_FAST                3 (items)\n",
      "            138 GET_ITER\n",
      "        >>  140 FOR_ITER               112 (to 254)\n",
      "            142 UNPACK_SEQUENCE          2\n",
      "            144 STORE_FAST               4 (name)\n",
      "            146 STORE_FAST               5 (x1)\n",
      "\n",
      " 62         148 LOAD_GLOBAL             10 (isinstance)\n",
      "            150 LOAD_FAST                5 (x1)\n",
      "            152 LOAD_GLOBAL             11 (_have_code)\n",
      "            154 CALL_FUNCTION            2\n",
      "            156 POP_JUMP_IF_FALSE      140\n",
      "\n",
      " 63         158 LOAD_GLOBAL             12 (print)\n",
      "            160 LOAD_CONST               9 ('Disassembly of %s:')\n",
      "            162 LOAD_FAST                4 (name)\n",
      "            164 BINARY_MODULO\n",
      "            166 LOAD_FAST                1 (file)\n",
      "            168 LOAD_CONST               2 (('file',))\n",
      "            170 CALL_FUNCTION_KW         2\n",
      "            172 POP_TOP\n",
      "\n",
      " 64         174 SETUP_EXCEPT            18 (to 194)\n",
      "\n",
      " 65         176 LOAD_GLOBAL             13 (dis)\n",
      "            178 LOAD_FAST                5 (x1)\n",
      "            180 LOAD_FAST                1 (file)\n",
      "            182 LOAD_FAST                2 (depth)\n",
      "            184 LOAD_CONST              10 (('file', 'depth'))\n",
      "            186 CALL_FUNCTION_KW         3\n",
      "            188 POP_TOP\n",
      "            190 POP_BLOCK\n",
      "            192 JUMP_FORWARD            48 (to 242)\n",
      "\n",
      " 66     >>  194 DUP_TOP\n",
      "            196 LOAD_GLOBAL             14 (TypeError)\n",
      "            198 COMPARE_OP              10 (exception match)\n",
      "            200 POP_JUMP_IF_FALSE      240\n",
      "            202 POP_TOP\n",
      "            204 STORE_FAST               6 (msg)\n",
      "            206 POP_TOP\n",
      "            208 SETUP_FINALLY           18 (to 228)\n",
      "\n",
      " 67         210 LOAD_GLOBAL             12 (print)\n",
      "            212 LOAD_CONST              11 ('Sorry:')\n",
      "            214 LOAD_FAST                6 (msg)\n",
      "            216 LOAD_FAST                1 (file)\n",
      "            218 LOAD_CONST               2 (('file',))\n",
      "            220 CALL_FUNCTION_KW         3\n",
      "            222 POP_TOP\n",
      "            224 POP_BLOCK\n",
      "            226 LOAD_CONST               1 (None)\n",
      "        >>  228 LOAD_CONST               1 (None)\n",
      "            230 STORE_FAST               6 (msg)\n",
      "            232 DELETE_FAST              6 (msg)\n",
      "            234 END_FINALLY\n",
      "            236 POP_EXCEPT\n",
      "            238 JUMP_FORWARD             2 (to 242)\n",
      "        >>  240 END_FINALLY\n",
      "\n",
      " 68     >>  242 LOAD_GLOBAL             12 (print)\n",
      "            244 LOAD_FAST                1 (file)\n",
      "            246 LOAD_CONST               2 (('file',))\n",
      "            248 CALL_FUNCTION_KW         1\n",
      "            250 POP_TOP\n",
      "            252 JUMP_ABSOLUTE          140\n",
      "        >>  254 POP_BLOCK\n",
      "            256 JUMP_FORWARD           104 (to 362)\n",
      "\n",
      " 69     >>  258 LOAD_GLOBAL              1 (hasattr)\n",
      "            260 LOAD_FAST                0 (x)\n",
      "            262 LOAD_CONST              12 ('co_code')\n",
      "            264 CALL_FUNCTION            2\n",
      "            266 EXTENDED_ARG             1\n",
      "            268 POP_JUMP_IF_FALSE      286\n",
      "\n",
      " 70         270 LOAD_GLOBAL             15 (_disassemble_recursive)\n",
      "            272 LOAD_FAST                0 (x)\n",
      "            274 LOAD_FAST                1 (file)\n",
      "            276 LOAD_FAST                2 (depth)\n",
      "            278 LOAD_CONST              10 (('file', 'depth'))\n",
      "            280 CALL_FUNCTION_KW         3\n",
      "            282 POP_TOP\n",
      "            284 JUMP_FORWARD            76 (to 362)\n",
      "\n",
      " 71     >>  286 LOAD_GLOBAL             10 (isinstance)\n",
      "            288 LOAD_FAST                0 (x)\n",
      "            290 LOAD_GLOBAL             16 (bytes)\n",
      "            292 LOAD_GLOBAL             17 (bytearray)\n",
      "            294 BUILD_TUPLE              2\n",
      "            296 CALL_FUNCTION            2\n",
      "            298 EXTENDED_ARG             1\n",
      "            300 POP_JUMP_IF_FALSE      316\n",
      "\n",
      " 72         302 LOAD_GLOBAL             18 (_disassemble_bytes)\n",
      "            304 LOAD_FAST                0 (x)\n",
      "            306 LOAD_FAST                1 (file)\n",
      "            308 LOAD_CONST               2 (('file',))\n",
      "            310 CALL_FUNCTION_KW         2\n",
      "            312 POP_TOP\n",
      "            314 JUMP_FORWARD            46 (to 362)\n",
      "\n",
      " 73     >>  316 LOAD_GLOBAL             10 (isinstance)\n",
      "            318 LOAD_FAST                0 (x)\n",
      "            320 LOAD_GLOBAL             19 (str)\n",
      "            322 CALL_FUNCTION            2\n",
      "            324 EXTENDED_ARG             1\n",
      "            326 POP_JUMP_IF_FALSE      344\n",
      "\n",
      " 74         328 LOAD_GLOBAL             20 (_disassemble_str)\n",
      "            330 LOAD_FAST                0 (x)\n",
      "            332 LOAD_FAST                1 (file)\n",
      "            334 LOAD_FAST                2 (depth)\n",
      "            336 LOAD_CONST              10 (('file', 'depth'))\n",
      "            338 CALL_FUNCTION_KW         3\n",
      "            340 POP_TOP\n",
      "            342 JUMP_FORWARD            18 (to 362)\n",
      "\n",
      " 76     >>  344 LOAD_GLOBAL             14 (TypeError)\n",
      "            346 LOAD_CONST              13 (\"don't know how to disassemble %s objects\")\n",
      "\n",
      " 77         348 LOAD_GLOBAL             21 (type)\n",
      "            350 LOAD_FAST                0 (x)\n",
      "            352 CALL_FUNCTION            1\n",
      "            354 LOAD_ATTR               22 (__name__)\n",
      "            356 BINARY_MODULO\n",
      "            358 CALL_FUNCTION            1\n",
      "    -->     360 RAISE_VARARGS            1\n",
      "        >>  362 LOAD_CONST               1 (None)\n",
      "            364 RETURN_VALUE\n"
     ]
    }
   ],
   "source": [
    "dis.dis()"
   ]
  },
  {
   "cell_type": "code",
   "execution_count": 29,
   "metadata": {},
   "outputs": [],
   "source": [
    "def y():\n",
    "    yield 1\n",
    "    yield 2"
   ]
  },
  {
   "cell_type": "code",
   "execution_count": 32,
   "metadata": {},
   "outputs": [],
   "source": [
    "t =y()"
   ]
  },
  {
   "cell_type": "code",
   "execution_count": 33,
   "metadata": {},
   "outputs": [
    {
     "data": {
      "text/plain": [
       "1"
      ]
     },
     "execution_count": 33,
     "metadata": {},
     "output_type": "execute_result"
    }
   ],
   "source": [
    "next(t)"
   ]
  },
  {
   "cell_type": "code",
   "execution_count": 34,
   "metadata": {},
   "outputs": [
    {
     "data": {
      "text/plain": [
       "2"
      ]
     },
     "execution_count": 34,
     "metadata": {},
     "output_type": "execute_result"
    }
   ],
   "source": [
    "next(t)"
   ]
  },
  {
   "cell_type": "code",
   "execution_count": 35,
   "metadata": {},
   "outputs": [
    {
     "ename": "StopIteration",
     "evalue": "",
     "output_type": "error",
     "traceback": [
      "\u001b[1;31m---------------------------------------------------------------------------\u001b[0m",
      "\u001b[1;31mStopIteration\u001b[0m                             Traceback (most recent call last)",
      "\u001b[1;32m<ipython-input-35-f843efe259be>\u001b[0m in \u001b[0;36m<module>\u001b[1;34m\u001b[0m\n\u001b[1;32m----> 1\u001b[1;33m \u001b[0mnext\u001b[0m\u001b[1;33m(\u001b[0m\u001b[0mt\u001b[0m\u001b[1;33m)\u001b[0m\u001b[1;33m\u001b[0m\u001b[1;33m\u001b[0m\u001b[0m\n\u001b[0m",
      "\u001b[1;31mStopIteration\u001b[0m: "
     ]
    }
   ],
   "source": [
    "next(t)"
   ]
  },
  {
   "cell_type": "code",
   "execution_count": 49,
   "metadata": {},
   "outputs": [
    {
     "ename": "SyntaxError",
     "evalue": "can't assign to function call (<ipython-input-49-9168d3aa3beb>, line 2)",
     "output_type": "error",
     "traceback": [
      "\u001b[1;36m  File \u001b[1;32m\"<ipython-input-49-9168d3aa3beb>\"\u001b[1;36m, line \u001b[1;32m2\u001b[0m\n\u001b[1;33m    fi(0) = 0\u001b[0m\n\u001b[1;37m    ^\u001b[0m\n\u001b[1;31mSyntaxError\u001b[0m\u001b[1;31m:\u001b[0m can't assign to function call\n"
     ]
    }
   ],
   "source": [
    "def fi(a):\n",
    "    fi(0) = 0\n",
    "    fi(1) = 1\n",
    "    return fi(a-1) +fi(a-2)"
   ]
  },
  {
   "cell_type": "code",
   "execution_count": 50,
   "metadata": {},
   "outputs": [],
   "source": [
    "def fi(a):\n",
    "    if a == 0:\n",
    "        return 0\n",
    "    if a == 1:\n",
    "        return 1\n",
    "    \n",
    "    return fi(a-1) +fi(a-2)"
   ]
  },
  {
   "cell_type": "code",
   "execution_count": 51,
   "metadata": {},
   "outputs": [
    {
     "data": {
      "text/plain": [
       "1"
      ]
     },
     "execution_count": 51,
     "metadata": {},
     "output_type": "execute_result"
    }
   ],
   "source": [
    "fi(1)"
   ]
  },
  {
   "cell_type": "code",
   "execution_count": 52,
   "metadata": {},
   "outputs": [
    {
     "data": {
      "text/plain": [
       "1"
      ]
     },
     "execution_count": 52,
     "metadata": {},
     "output_type": "execute_result"
    }
   ],
   "source": [
    "fi(2)"
   ]
  },
  {
   "cell_type": "code",
   "execution_count": 53,
   "metadata": {},
   "outputs": [
    {
     "data": {
      "text/plain": [
       "2"
      ]
     },
     "execution_count": 53,
     "metadata": {},
     "output_type": "execute_result"
    }
   ],
   "source": [
    "fi(3)"
   ]
  },
  {
   "cell_type": "code",
   "execution_count": 54,
   "metadata": {},
   "outputs": [
    {
     "data": {
      "text/plain": [
       "3"
      ]
     },
     "execution_count": 54,
     "metadata": {},
     "output_type": "execute_result"
    }
   ],
   "source": [
    "fi(4)"
   ]
  },
  {
   "cell_type": "code",
   "execution_count": 55,
   "metadata": {},
   "outputs": [
    {
     "data": {
      "text/plain": [
       "5"
      ]
     },
     "execution_count": 55,
     "metadata": {},
     "output_type": "execute_result"
    }
   ],
   "source": [
    "fi(5)"
   ]
  },
  {
   "cell_type": "code",
   "execution_count": 58,
   "metadata": {},
   "outputs": [],
   "source": [
    "def si(a):\n",
    "    if a==0:\n",
    "        return 0\n",
    "    return si(a-1)+a"
   ]
  },
  {
   "cell_type": "code",
   "execution_count": 59,
   "metadata": {},
   "outputs": [
    {
     "data": {
      "text/plain": [
       "1"
      ]
     },
     "execution_count": 59,
     "metadata": {},
     "output_type": "execute_result"
    }
   ],
   "source": [
    "si(1)"
   ]
  },
  {
   "cell_type": "code",
   "execution_count": 60,
   "metadata": {},
   "outputs": [
    {
     "data": {
      "text/plain": [
       "3"
      ]
     },
     "execution_count": 60,
     "metadata": {},
     "output_type": "execute_result"
    }
   ],
   "source": [
    "si(2)"
   ]
  },
  {
   "cell_type": "code",
   "execution_count": 61,
   "metadata": {},
   "outputs": [
    {
     "data": {
      "text/plain": [
       "6"
      ]
     },
     "execution_count": 61,
     "metadata": {},
     "output_type": "execute_result"
    }
   ],
   "source": [
    "si(3)"
   ]
  },
  {
   "cell_type": "code",
   "execution_count": 62,
   "metadata": {},
   "outputs": [],
   "source": [
    "def y():\n",
    "    yield from [1,2,3,4]"
   ]
  },
  {
   "cell_type": "code",
   "execution_count": 72,
   "metadata": {},
   "outputs": [],
   "source": [
    "t = y()"
   ]
  },
  {
   "cell_type": "code",
   "execution_count": 64,
   "metadata": {},
   "outputs": [
    {
     "data": {
      "text/plain": [
       "1"
      ]
     },
     "execution_count": 64,
     "metadata": {},
     "output_type": "execute_result"
    }
   ],
   "source": [
    "next(t)"
   ]
  },
  {
   "cell_type": "code",
   "execution_count": 65,
   "metadata": {},
   "outputs": [
    {
     "data": {
      "text/plain": [
       "2"
      ]
     },
     "execution_count": 65,
     "metadata": {},
     "output_type": "execute_result"
    }
   ],
   "source": [
    "next(t)"
   ]
  },
  {
   "cell_type": "code",
   "execution_count": 66,
   "metadata": {},
   "outputs": [
    {
     "data": {
      "text/plain": [
       "3"
      ]
     },
     "execution_count": 66,
     "metadata": {},
     "output_type": "execute_result"
    }
   ],
   "source": [
    "next(t)"
   ]
  },
  {
   "cell_type": "code",
   "execution_count": 67,
   "metadata": {},
   "outputs": [
    {
     "data": {
      "text/plain": [
       "4"
      ]
     },
     "execution_count": 67,
     "metadata": {},
     "output_type": "execute_result"
    }
   ],
   "source": [
    "next(t)"
   ]
  },
  {
   "cell_type": "code",
   "execution_count": 68,
   "metadata": {},
   "outputs": [
    {
     "ename": "StopIteration",
     "evalue": "",
     "output_type": "error",
     "traceback": [
      "\u001b[1;31m---------------------------------------------------------------------------\u001b[0m",
      "\u001b[1;31mStopIteration\u001b[0m                             Traceback (most recent call last)",
      "\u001b[1;32m<ipython-input-68-f843efe259be>\u001b[0m in \u001b[0;36m<module>\u001b[1;34m\u001b[0m\n\u001b[1;32m----> 1\u001b[1;33m \u001b[0mnext\u001b[0m\u001b[1;33m(\u001b[0m\u001b[0mt\u001b[0m\u001b[1;33m)\u001b[0m\u001b[1;33m\u001b[0m\u001b[1;33m\u001b[0m\u001b[0m\n\u001b[0m",
      "\u001b[1;31mStopIteration\u001b[0m: "
     ]
    }
   ],
   "source": [
    "next(t)"
   ]
  },
  {
   "cell_type": "code",
   "execution_count": 69,
   "metadata": {},
   "outputs": [],
   "source": [
    "def y():\n",
    "    while True:\n",
    "        yield from [1,2,3,4]"
   ]
  },
  {
   "cell_type": "code",
   "execution_count": 73,
   "metadata": {},
   "outputs": [
    {
     "data": {
      "text/plain": [
       "1"
      ]
     },
     "execution_count": 73,
     "metadata": {},
     "output_type": "execute_result"
    }
   ],
   "source": [
    "next(t)"
   ]
  },
  {
   "cell_type": "code",
   "execution_count": 74,
   "metadata": {},
   "outputs": [
    {
     "data": {
      "text/plain": [
       "2"
      ]
     },
     "execution_count": 74,
     "metadata": {},
     "output_type": "execute_result"
    }
   ],
   "source": [
    "next(t)"
   ]
  },
  {
   "cell_type": "code",
   "execution_count": 75,
   "metadata": {},
   "outputs": [
    {
     "data": {
      "text/plain": [
       "3"
      ]
     },
     "execution_count": 75,
     "metadata": {},
     "output_type": "execute_result"
    }
   ],
   "source": [
    "next(t)"
   ]
  },
  {
   "cell_type": "code",
   "execution_count": 76,
   "metadata": {},
   "outputs": [
    {
     "data": {
      "text/plain": [
       "4"
      ]
     },
     "execution_count": 76,
     "metadata": {},
     "output_type": "execute_result"
    }
   ],
   "source": [
    "next(t)"
   ]
  },
  {
   "cell_type": "code",
   "execution_count": 77,
   "metadata": {},
   "outputs": [
    {
     "data": {
      "text/plain": [
       "1"
      ]
     },
     "execution_count": 77,
     "metadata": {},
     "output_type": "execute_result"
    }
   ],
   "source": [
    "next(t)"
   ]
  },
  {
   "cell_type": "code",
   "execution_count": 78,
   "metadata": {},
   "outputs": [
    {
     "data": {
      "text/plain": [
       "2"
      ]
     },
     "execution_count": 78,
     "metadata": {},
     "output_type": "execute_result"
    }
   ],
   "source": [
    "next(t)"
   ]
  },
  {
   "cell_type": "code",
   "execution_count": 79,
   "metadata": {},
   "outputs": [
    {
     "data": {
      "text/plain": [
       "3"
      ]
     },
     "execution_count": 79,
     "metadata": {},
     "output_type": "execute_result"
    }
   ],
   "source": [
    "next(t)"
   ]
  },
  {
   "cell_type": "code",
   "execution_count": 80,
   "metadata": {},
   "outputs": [
    {
     "data": {
      "text/plain": [
       "4"
      ]
     },
     "execution_count": 80,
     "metadata": {},
     "output_type": "execute_result"
    }
   ],
   "source": [
    "next(t)"
   ]
  },
  {
   "cell_type": "code",
   "execution_count": null,
   "metadata": {},
   "outputs": [],
   "source": []
  }
 ],
 "metadata": {
  "kernelspec": {
   "display_name": "Python 3",
   "language": "python",
   "name": "python3"
  },
  "language_info": {
   "codemirror_mode": {
    "name": "ipython",
    "version": 3
   },
   "file_extension": ".py",
   "mimetype": "text/x-python",
   "name": "python",
   "nbconvert_exporter": "python",
   "pygments_lexer": "ipython3",
   "version": "3.7.3"
  }
 },
 "nbformat": 4,
 "nbformat_minor": 2
}
