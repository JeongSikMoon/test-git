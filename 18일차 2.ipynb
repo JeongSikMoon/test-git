{
 "cells": [
  {
   "cell_type": "code",
   "execution_count": 1,
   "metadata": {},
   "outputs": [],
   "source": [
    "import seaborn as sns"
   ]
  },
  {
   "cell_type": "code",
   "execution_count": 2,
   "metadata": {},
   "outputs": [],
   "source": [
    "tips = sns.load_dataset('tips')"
   ]
  },
  {
   "cell_type": "code",
   "execution_count": 4,
   "metadata": {},
   "outputs": [
    {
     "data": {
      "text/plain": [
       "<matplotlib.axes._subplots.AxesSubplot at 0x2c80b9455c0>"
      ]
     },
     "execution_count": 4,
     "metadata": {},
     "output_type": "execute_result"
    },
    {
     "data": {
      "image/png": "[encoded data removed]",
      "text/plain": [
       "<Figure size 432x288 with 1 Axes>"
      ]
     },
     "metadata": {
      "needs_background": "light"
     },
     "output_type": "display_data"
    }
   ],
   "source": [
    "tips.sex.value_counts().plot.bar()"
   ]
  },
  {
   "cell_type": "code",
   "execution_count": 7,
   "metadata": {},
   "outputs": [
    {
     "name": "stdout",
     "output_type": "stream",
     "text": [
      " C 드라이브의 볼륨에는 이름이 없습니다.\n",
      " 볼륨 일련 번호: 5A6D-7069\n",
      "\n",
      " C:\\Users\\USER 디렉터리\n",
      "\n",
      "2019-05-30  오후 03:22    <DIR>          .\n",
      "2019-05-30  오후 03:22    <DIR>          ..\n",
      "2019-04-09  오후 03:01    <DIR>          .anaconda\n",
      "2019-05-15  오후 10:30    <DIR>          .atom\n",
      "2019-04-29  오후 08:32    <DIR>          .conda\n",
      "2019-04-29  오후 08:19                43 .condarc\n",
      "2019-05-22  오후 09:20    <DIR>          .docker\n",
      "2019-05-15  오후 10:31               175 .gitconfig\n",
      "2019-05-30  오후 03:18    <DIR>          .ipynb_checkpoints\n",
      "2019-04-09  오후 03:02    <DIR>          .ipython\n",
      "2019-04-29  오후 03:32    <DIR>          .jupyter\n",
      "2019-04-23  오후 04:46    <DIR>          .keras\n",
      "2019-04-09  오후 03:03    <DIR>          .matplotlib\n",
      "2019-05-15  오후 07:33             4,001 .viminfo\n",
      "2019-05-29  오후 07:39    <DIR>          .VirtualBox\n",
      "2019-05-29  오후 05:07    <DIR>          .vscode\n",
      "2019-05-16  오후 04:37             9,816 10일차 1-1.ipynb\n",
      "2019-05-16  오후 04:37             1,151 10일차 1-2.ipynb\n",
      "2019-05-16  오후 04:37             3,627 10일차 1-3.ipynb\n",
      "2019-05-16  오후 04:38             1,465 10일차 1-4.ipynb\n",
      "2019-05-16  오후 04:38             2,191 10일차 1-5.ipynb\n",
      "2019-05-16  오후 05:01            16,795 10일차 2.ipynb\n",
      "2019-05-16  오후 05:24             7,321 10일차 3-1.ipynb\n",
      "2019-05-16  오후 05:04             5,311 10일차 3-2.ipynb\n",
      "2019-05-17  오후 05:09            12,087 11일차 1.ipynb\n",
      "2019-05-17  오후 05:09             8,511 11일차 2.ipynb\n",
      "2019-05-17  오후 05:09            10,076 11일차 3-1.ipynb\n",
      "2019-05-17  오후 05:09             2,012 11일차 3-2.ipynb\n",
      "2019-05-20  오후 05:34             6,544 12일차 1.ipynb\n",
      "2019-05-20  오후 05:34            21,907 12일차 2.ipynb\n",
      "2019-05-20  오후 05:34             6,203 12일차 3-1.ipynb\n",
      "2019-05-20  오후 05:34            29,947 12일차 3-2.ipynb\n",
      "2019-05-21  오후 05:21            12,628 13일차 1.ipynb\n",
      "2019-05-21  오후 05:21             7,258 13일차 2-1.ipynb\n",
      "2019-05-21  오후 05:21             6,501 13일차 2-2.ipynb\n",
      "2019-05-21  오후 05:21             3,379 13일차 3.ipynb\n",
      "2019-05-23  오후 05:23             7,116 14일차 1.ipynb\n",
      "2019-05-23  오후 05:23             4,037 14일차 2.ipynb\n",
      "2019-05-24  오후 04:35             5,287 15일차 1-1.ipynb\n",
      "2019-05-24  오후 04:35            39,282 15일차 1-2.ipynb\n",
      "2019-05-24  오후 04:35            52,907 15일차 1-3.ipynb\n",
      "2019-05-24  오후 04:35            60,053 15일차 1-4.ipynb\n",
      "2019-05-24  오후 04:35            37,619 15일차 2-1.ipynb\n",
      "2019-05-24  오후 05:17           160,629 15일차 3-1.ipynb\n",
      "2019-05-27  오후 05:24           350,015 16일차 1.ipynb\n",
      "2019-05-27  오후 05:25            80,474 16일차 2.ipynb\n",
      "2019-05-27  오후 05:25           254,401 16일차 3.ipynb\n",
      "2019-05-28  오후 05:30           193,739 17일차 1.ipynb\n",
      "2019-05-28  오후 05:30            60,865 17일차 2.ipynb\n",
      "2019-05-28  오후 05:30            61,100 17일차 3.ipynb\n",
      "2019-05-30  오후 02:51            37,097 18일차 1.ipynb\n",
      "2019-05-30  오후 03:22            24,467 18일차 2.ipynb\n",
      "2019-04-18  오후 05:22           122,136 190418.ipynb\n",
      "2019-04-23  오후 05:22            47,352 190423.ipynb\n",
      "2019-04-29  오후 05:33             3,727 1일차 1-1.ipynb\n",
      "2019-04-29  오후 05:33            12,049 1일차 1-2.ipynb\n",
      "2019-04-29  오후 05:33             1,534 1일차 1-3.ipynb\n",
      "2019-04-09  오후 05:33           152,305 27일차.ipynb\n",
      "2019-04-30  오후 05:37            20,969 2일차 1.ipynb\n",
      "2019-04-30  오후 05:32            13,403 2일차 2.ipynb\n",
      "2019-04-30  오후 05:32             6,410 2일차 3.ipynb\n",
      "2019-04-30  오후 05:32            17,279 2일차 4.ipynb\n",
      "2019-03-30  오후 05:34    <DIR>          3D Objects\n",
      "2019-05-02  오후 02:55            17,037 3일차 1-1.ipynb\n",
      "2019-05-02  오후 02:55             4,406 3일차 1-2 조건문.ipynb\n",
      "2019-05-02  오후 05:26            17,757 3일차 2.ipynb\n",
      "2019-05-03  오후 01:54        18,256,226 3일차 3.ipynb\n",
      "2019-05-03  오후 05:18            13,376 4일차 1.ipynb\n",
      "2019-05-03  오후 05:18            24,212 4일차 2.ipynb\n",
      "2019-05-03  오후 05:18            15,052 4일차 3.ipynb\n",
      "2019-05-07  오후 05:42            12,355 5일차 1.ipynb\n",
      "2019-05-07  오후 05:42            25,960 5일차 2.ipynb\n",
      "2019-05-07  오후 05:42             6,613 5일차 3.ipynb\n",
      "2019-05-07  오후 05:42            64,037 5일차 4.ipynb\n",
      "2019-05-09  오후 05:30            10,548 6일차 1.ipynb\n",
      "2019-05-09  오후 05:30            25,605 6일차 2.ipynb\n",
      "2019-05-09  오후 05:30             6,351 6일차 3.ipynb\n",
      "2019-05-10  오후 04:57            28,913 7일차 1.ipynb\n",
      "2019-05-10  오후 04:57             6,034 7일차 2.ipynb\n",
      "2019-05-10  오후 04:23               555 7일차 4.ipynb\n",
      "2019-05-14  오후 04:58            12,583 8일차 1.ipynb\n",
      "2019-05-13  오후 05:02            10,066 8일차 2-1.ipynb\n",
      "2019-05-13  오후 05:02             7,700 8일차 2-2.ipynb\n",
      "2019-05-13  오후 05:02             4,632 8일차 3-1.ipynb\n",
      "2019-05-13  오후 05:02             6,327 8일차 3-2.ipynb\n",
      "2019-05-13  오후 05:22            26,661 8일차 3-3.ipynb\n",
      "2019-05-14  오후 04:59             7,366 9일차 1.ipynb\n",
      "2019-05-14  오후 05:00            11,834 9일차 2.ipynb\n",
      "2019-05-14  오후 05:03               555 9일차 3.ipynb\n",
      "2019-05-24  오후 04:44             5,020 a.csv\n",
      "2019-05-22  오후 05:03                78 account.json\n",
      "2019-05-07  오후 05:44            20,559 advanced_function.ipynb\n",
      "2019-04-23  오후 04:39    <DIR>          Anaconda3\n",
      "2019-05-10  오후 03:00               555 asd.ipynb\n",
      "2019-04-09  오후 05:17    <DIR>          cache\n",
      "2019-03-30  오후 05:34    <DIR>          Contacts\n",
      "2019-05-27  오후 04:21    <DIR>          data\n",
      "2019-05-22  오후 05:27               341 debug.log\n",
      "2019-05-13  오후 01:46            32,065 Decorator (1).ipynb\n",
      "2019-05-10  오후 04:57            34,812 decorator.ipynb\n",
      "2019-05-29  오후 05:07    <DIR>          Desktop\n",
      "2019-05-24  오후 07:11    <DIR>          Documents\n",
      "2019-05-29  오후 07:38    <DIR>          Downloads\n",
      "2019-05-07  오후 05:44            85,193 Epiphanies (오후).ipynb\n",
      "2019-05-08  오후 01:43    <DIR>          Evernote\n",
      "2019-03-30  오후 05:34    <DIR>          Favorites\n",
      "2019-05-09  오후 03:59            18,039 Fibonacci.ipynb\n",
      "2019-05-08  오후 04:46    <DIR>          git-test\n",
      "2019-05-08  오후 05:19    <DIR>          git-test2\n",
      "2019-05-23  오후 03:27             2,684 InputOuput.ipynb\n",
      "2019-04-09  오후 03:01             4,551 iris.data\n",
      "2019-04-09  오후 02:48           166,459 iris.ipynb\n",
      "2019-05-07  오후 05:44            29,474 LEGB.ipynb\n",
      "2019-03-30  오후 05:34    <DIR>          Links\n",
      "2019-04-23  오후 04:39    <DIR>          logs\n",
      "2019-05-23  오후 03:56                29 moo3.txt\n",
      "2019-05-16  오후 02:24               106 moon.py\n",
      "2019-05-23  오후 03:54                52 moon.txt\n",
      "2019-05-23  오후 03:50                27 moon2.txt\n",
      "2019-05-23  오후 03:56                 0 moon3.txt\n",
      "2019-05-23  오후 04:29                63 moon4.txt\n",
      "2019-03-30  오후 05:34    <DIR>          Music\n",
      "2019-05-29  오후 01:28    <DIR>          OneDrive\n",
      "2019-05-14  오후 04:08            17,916 OOP_1_Objects_and_types.ipynb\n",
      "2019-05-14  오후 04:59            41,724 OOP_2_Classes_and_members.ipynb\n",
      "2019-05-14  오후 05:10            24,106 OOP_3_Delegation__composition_and_inheritance.ipynb\n",
      "2019-05-16  오후 03:52            21,899 OOP_4_Polymorphism.ipynb\n",
      "2019-05-16  오후 05:25            15,388 OOP_5_Metaclasses.ipynb\n",
      "2019-05-17  오후 03:54            16,922 OOP_6_Abstract_Base_Classes.ipynb\n",
      "2019-05-23  오후 05:23            44,708 open_with.ipynb\n",
      "2019-05-27  오후 04:16               965 pew.txt\n",
      "2019-03-30  오후 05:35    <DIR>          Pictures\n",
      "2019-03-30  오후 05:34    <DIR>          Saved Games\n",
      "2019-05-07  오후 04:34    <DIR>          seaborn-data\n",
      "2019-03-30  오후 05:35    <DIR>          Searches\n",
      "2019-05-23  오후 04:40               181 sun.ss\n",
      "2019-05-23  오후 04:03               176 sun.txt\n",
      "2019-05-23  오후 03:20                14 t.csv\n",
      "2019-05-15  오후 08:23    <DIR>          test-git\n",
      "2019-05-15  오후 07:30    <DIR>          test-git1\n",
      "2019-05-15  오후 02:21    <DIR>          test-git3\n",
      "2019-05-08  오후 05:50    <DIR>          test1\n",
      "2019-05-24  오후 02:24           107,058 tt.csv\n",
      "2019-05-23  오후 04:38               152 tttt.npy\n",
      "2019-04-12  오후 05:38         1,010,086 Untitled.ipynb\n",
      "2019-04-12  오후 05:27            83,520 Untitled1.ipynb\n",
      "2019-05-27  오후 05:27               721 Untitled10.ipynb\n",
      "2019-04-23  오후 04:37                72 Untitled2.ipynb\n",
      "2019-04-29  오후 03:52             1,469 Untitled3.ipynb\n",
      "2019-04-30  오후 03:19             6,391 Untitled4.ipynb\n",
      "2019-05-03  오후 01:54             1,407 Untitled5.ipynb\n",
      "2019-05-13  오후 01:34                72 Untitled6.ipynb\n",
      "2019-05-13  오후 01:48               555 Untitled7.ipynb\n",
      "2019-05-21  오후 01:57             2,769 Untitled8.ipynb\n",
      "2019-05-22  오후 04:51             2,155 Untitled9.ipynb\n",
      "2019-04-23  오후 04:33    <DIR>          Videos\n",
      "2019-05-29  오후 07:31    <DIR>          VirtualBox VMs\n",
      "2019-05-23  오후 02:04            56,467 WhyPythonIsSlow.ipynb\n",
      "2019-05-23  오후 04:37               260 x.npz\n",
      "2019-05-16  오후 02:37    <DIR>          __pycache__\n",
      "2019-05-22  오후 05:26           862,460 특강1.ipynb\n",
      "             121개 파일          23,347,682 바이트\n",
      "              40개 디렉터리  172,798,787,584 바이트 남음\n"
     ]
    }
   ],
   "source": [
    "! conda install"
   ]
  },
  {
   "cell_type": "code",
   "execution_count": 8,
   "metadata": {},
   "outputs": [
    {
     "name": "stdout",
     "output_type": "stream",
     "text": [
      "Collecting vincent\n",
      "  Downloading https://files.pythonhosted.org/packages/11/bf/a12ecaa21a2e376a16de67e09f64a38a4acd95e04e5dc35ad2f13a6f0bfd/vincent-0.4.4.tar.gz\n",
      "Requirement already satisfied: pandas in c:\\programdata\\anaconda3\\lib\\site-packages (from vincent) (0.24.2)\n",
      "Requirement already satisfied: python-dateutil>=2.5.0 in c:\\programdata\\anaconda3\\lib\\site-packages (from pandas->vincent) (2.8.0)\n",
      "Requirement already satisfied: numpy>=1.12.0 in c:\\programdata\\anaconda3\\lib\\site-packages (from pandas->vincent) (1.16.2)\n",
      "Requirement already satisfied: pytz>=2011k in c:\\programdata\\anaconda3\\lib\\site-packages (from pandas->vincent) (2018.9)\n",
      "Requirement already satisfied: six>=1.5 in c:\\programdata\\anaconda3\\lib\\site-packages (from python-dateutil>=2.5.0->pandas->vincent) (1.12.0)\n",
      "Building wheels for collected packages: vincent\n",
      "  Building wheel for vincent (setup.py): started\n",
      "  Building wheel for vincent (setup.py): finished with status 'done'\n",
      "  Stored in directory: C:\\Users\\USER\\AppData\\Local\\pip\\Cache\\wheels\\4c\\0d\\8a\\65f34c765c6094a71cce3e42a49a26533eef61695e9b505f03\n",
      "Successfully built vincent\n",
      "Installing collected packages: vincent\n",
      "Successfully installed vincent-0.4.4\n"
     ]
    }
   ],
   "source": [
    "!pip install vincent"
   ]
  },
  {
   "cell_type": "code",
   "execution_count": 9,
   "metadata": {},
   "outputs": [],
   "source": [
    "!pip install -q pdvega"
   ]
  },
  {
   "cell_type": "code",
   "execution_count": 10,
   "metadata": {},
   "outputs": [
    {
     "name": "stdout",
     "output_type": "stream",
     "text": [
      "Requirement already up-to-date: pdvega in c:\\programdata\\anaconda3\\lib\\site-packages (0.1)\n",
      "Requirement already satisfied, skipping upgrade: vega3 in c:\\programdata\\anaconda3\\lib\\site-packages (from pdvega) (0.13.0)\n",
      "Requirement already satisfied, skipping upgrade: ipython in c:\\programdata\\anaconda3\\lib\\site-packages (from pdvega) (7.4.0)\n",
      "Requirement already satisfied, skipping upgrade: pandas in c:\\programdata\\anaconda3\\lib\\site-packages (from pdvega) (0.24.2)\n",
      "Requirement already satisfied, skipping upgrade: prompt-toolkit<2.1.0,>=2.0.0 in c:\\programdata\\anaconda3\\lib\\site-packages (from ipython->pdvega) (2.0.9)\n",
      "Requirement already satisfied, skipping upgrade: decorator in c:\\programdata\\anaconda3\\lib\\site-packages (from ipython->pdvega) (4.4.0)\n",
      "Requirement already satisfied, skipping upgrade: setuptools>=18.5 in c:\\programdata\\anaconda3\\lib\\site-packages (from ipython->pdvega) (40.8.0)\n",
      "Requirement already satisfied, skipping upgrade: backcall in c:\\programdata\\anaconda3\\lib\\site-packages (from ipython->pdvega) (0.1.0)\n",
      "Requirement already satisfied, skipping upgrade: colorama; sys_platform == \"win32\" in c:\\programdata\\anaconda3\\lib\\site-packages (from ipython->pdvega) (0.4.1)\n",
      "Requirement already satisfied, skipping upgrade: pickleshare in c:\\programdata\\anaconda3\\lib\\site-packages (from ipython->pdvega) (0.7.5)\n",
      "Requirement already satisfied, skipping upgrade: jedi>=0.10 in c:\\programdata\\anaconda3\\lib\\site-packages (from ipython->pdvega) (0.13.3)\n",
      "Requirement already satisfied, skipping upgrade: pygments in c:\\programdata\\anaconda3\\lib\\site-packages (from ipython->pdvega) (2.3.1)\n",
      "Requirement already satisfied, skipping upgrade: traitlets>=4.2 in c:\\programdata\\anaconda3\\lib\\site-packages (from ipython->pdvega) (4.3.2)\n",
      "Requirement already satisfied, skipping upgrade: pytz>=2011k in c:\\programdata\\anaconda3\\lib\\site-packages (from pandas->pdvega) (2018.9)\n",
      "Requirement already satisfied, skipping upgrade: python-dateutil>=2.5.0 in c:\\programdata\\anaconda3\\lib\\site-packages (from pandas->pdvega) (2.8.0)\n",
      "Requirement already satisfied, skipping upgrade: numpy>=1.12.0 in c:\\programdata\\anaconda3\\lib\\site-packages (from pandas->pdvega) (1.16.2)\n",
      "Requirement already satisfied, skipping upgrade: wcwidth in c:\\programdata\\anaconda3\\lib\\site-packages (from prompt-toolkit<2.1.0,>=2.0.0->ipython->pdvega) (0.1.7)\n",
      "Requirement already satisfied, skipping upgrade: six>=1.9.0 in c:\\programdata\\anaconda3\\lib\\site-packages (from prompt-toolkit<2.1.0,>=2.0.0->ipython->pdvega) (1.12.0)\n",
      "Requirement already satisfied, skipping upgrade: parso>=0.3.0 in c:\\programdata\\anaconda3\\lib\\site-packages (from jedi>=0.10->ipython->pdvega) (0.3.4)\n",
      "Requirement already satisfied, skipping upgrade: ipython-genutils in c:\\programdata\\anaconda3\\lib\\site-packages (from traitlets>=4.2->ipython->pdvega) (0.2.0)\n"
     ]
    }
   ],
   "source": [
    "!pip install -U pdvega"
   ]
  },
  {
   "cell_type": "code",
   "execution_count": 13,
   "metadata": {},
   "outputs": [
    {
     "data": {
      "text/plain": [
       "<matplotlib.axes._subplots.AxesSubplot at 0x2c80f23c8d0>"
      ]
     },
     "execution_count": 13,
     "metadata": {},
     "output_type": "execute_result"
    },
    {
     "data": {
      "image/png": "[encoded data removed]",
      "text/plain": [
       "<Figure size 432x288 with 1 Axes>"
      ]
     },
     "metadata": {
      "needs_background": "light"
     },
     "output_type": "display_data"
    }
   ],
   "source": [
    "tips[['total_bill','smoker']].set_index('smoker').plot.bar()"
   ]
  },
  {
   "cell_type": "code",
   "execution_count": 19,
   "metadata": {},
   "outputs": [],
   "source": [
    "x = tips[['total_bill','smoker']].groupby('smoker')"
   ]
  },
  {
   "cell_type": "code",
   "execution_count": 20,
   "metadata": {},
   "outputs": [
    {
     "data": {
      "text/html": [
       "<div>\n",
       "<style scoped>\n",
       "    .dataframe tbody tr th:only-of-type {\n",
       "        vertical-align: middle;\n",
       "    }\n",
       "\n",
       "    .dataframe tbody tr th {\n",
       "        vertical-align: top;\n",
       "    }\n",
       "\n",
       "    .dataframe thead th {\n",
       "        text-align: right;\n",
       "    }\n",
       "</style>\n",
       "<table border=\"1\" class=\"dataframe\">\n",
       "  <thead>\n",
       "    <tr style=\"text-align: right;\">\n",
       "      <th></th>\n",
       "      <th>total_bill</th>\n",
       "    </tr>\n",
       "    <tr>\n",
       "      <th>smoker</th>\n",
       "      <th></th>\n",
       "    </tr>\n",
       "  </thead>\n",
       "  <tbody>\n",
       "    <tr>\n",
       "      <th>Yes</th>\n",
       "      <td>20.756344</td>\n",
       "    </tr>\n",
       "    <tr>\n",
       "      <th>No</th>\n",
       "      <td>19.188278</td>\n",
       "    </tr>\n",
       "  </tbody>\n",
       "</table>\n",
       "</div>"
      ],
      "text/plain": [
       "        total_bill\n",
       "smoker            \n",
       "Yes      20.756344\n",
       "No       19.188278"
      ]
     },
     "execution_count": 20,
     "metadata": {},
     "output_type": "execute_result"
    }
   ],
   "source": [
    "x.mean()"
   ]
  },
  {
   "cell_type": "code",
   "execution_count": 18,
   "metadata": {},
   "outputs": [
    {
     "name": "stdout",
     "output_type": "stream",
     "text": [
      "('Yes',      total_bill smoker\n",
      "56        38.01    Yes\n",
      "58        11.24    Yes\n",
      "60        20.29    Yes\n",
      "61        13.81    Yes\n",
      "62        11.02    Yes\n",
      "63        18.29    Yes\n",
      "67         3.07    Yes\n",
      "69        15.01    Yes\n",
      "72        26.86    Yes\n",
      "73        25.28    Yes\n",
      "76        17.92    Yes\n",
      "80        19.44    Yes\n",
      "83        32.68    Yes\n",
      "90        28.97    Yes\n",
      "92         5.75    Yes\n",
      "93        16.32    Yes\n",
      "95        40.17    Yes\n",
      "96        27.28    Yes\n",
      "97        12.03    Yes\n",
      "98        21.01    Yes\n",
      "100       11.35    Yes\n",
      "101       15.38    Yes\n",
      "102       44.30    Yes\n",
      "103       22.42    Yes\n",
      "105       15.36    Yes\n",
      "106       20.49    Yes\n",
      "107       25.21    Yes\n",
      "109       14.31    Yes\n",
      "138       16.00    Yes\n",
      "164       17.51    Yes\n",
      "..          ...    ...\n",
      "203       16.40    Yes\n",
      "204       20.53    Yes\n",
      "205       16.47    Yes\n",
      "206       26.59    Yes\n",
      "207       38.73    Yes\n",
      "208       24.27    Yes\n",
      "209       12.76    Yes\n",
      "210       30.06    Yes\n",
      "211       25.89    Yes\n",
      "213       13.27    Yes\n",
      "214       28.17    Yes\n",
      "215       12.90    Yes\n",
      "216       28.15    Yes\n",
      "217       11.59    Yes\n",
      "218        7.74    Yes\n",
      "219       30.14    Yes\n",
      "220       12.16    Yes\n",
      "221       13.42    Yes\n",
      "222        8.58    Yes\n",
      "224       13.42    Yes\n",
      "225       16.27    Yes\n",
      "226       10.09    Yes\n",
      "229       22.12    Yes\n",
      "230       24.01    Yes\n",
      "231       15.69    Yes\n",
      "234       15.53    Yes\n",
      "236       12.60    Yes\n",
      "237       32.83    Yes\n",
      "240       27.18    Yes\n",
      "241       22.67    Yes\n",
      "\n",
      "[93 rows x 2 columns])\n",
      "('No',      total_bill smoker\n",
      "0         16.99     No\n",
      "1         10.34     No\n",
      "2         21.01     No\n",
      "3         23.68     No\n",
      "4         24.59     No\n",
      "5         25.29     No\n",
      "6          8.77     No\n",
      "7         26.88     No\n",
      "8         15.04     No\n",
      "9         14.78     No\n",
      "10        10.27     No\n",
      "11        35.26     No\n",
      "12        15.42     No\n",
      "13        18.43     No\n",
      "14        14.83     No\n",
      "15        21.58     No\n",
      "16        10.33     No\n",
      "17        16.29     No\n",
      "18        16.97     No\n",
      "19        20.65     No\n",
      "20        17.92     No\n",
      "21        20.29     No\n",
      "22        15.77     No\n",
      "23        39.42     No\n",
      "24        19.82     No\n",
      "25        17.81     No\n",
      "26        13.37     No\n",
      "27        12.69     No\n",
      "28        21.70     No\n",
      "29        19.65     No\n",
      "..          ...    ...\n",
      "150       14.07     No\n",
      "151       13.13     No\n",
      "152       17.26     No\n",
      "153       24.55     No\n",
      "154       19.77     No\n",
      "155       29.85     No\n",
      "156       48.17     No\n",
      "157       25.00     No\n",
      "158       13.39     No\n",
      "159       16.49     No\n",
      "160       21.50     No\n",
      "161       12.66     No\n",
      "162       16.21     No\n",
      "163       13.81     No\n",
      "165       24.52     No\n",
      "166       20.76     No\n",
      "167       31.71     No\n",
      "185       20.69     No\n",
      "195        7.56     No\n",
      "212       48.33     No\n",
      "223       15.98     No\n",
      "227       20.45     No\n",
      "228       13.28     No\n",
      "232       11.61     No\n",
      "233       10.77     No\n",
      "235       10.07     No\n",
      "238       35.83     No\n",
      "239       29.03     No\n",
      "242       17.82     No\n",
      "243       18.78     No\n",
      "\n",
      "[151 rows x 2 columns])\n"
     ]
    }
   ],
   "source": [
    "for i in x:\n",
    "    print(i)"
   ]
  },
  {
   "cell_type": "code",
   "execution_count": 23,
   "metadata": {},
   "outputs": [],
   "source": [
    "s = tips.groupby('smoker').mean().total_bill"
   ]
  },
  {
   "cell_type": "code",
   "execution_count": 24,
   "metadata": {},
   "outputs": [],
   "source": [
    "import pdvega"
   ]
  },
  {
   "cell_type": "code",
   "execution_count": 35,
   "metadata": {},
   "outputs": [
    {
     "data": {
      "text/html": [
       "<div class=\"vega-embed\" id=\"6499edbb-432a-43b0-8a30-1d7e01831149\"></div>\n",
       "\n",
       "<style>\n",
       ".vega-embed .vega-actions > a {\n",
       "    transition: opacity 200ms ease-in;\n",
       "    opacity: 0.3;\n",
       "    margin-right: 0.6em;\n",
       "    color: #444;\n",
       "    text-decoration: none;\n",
       "}\n",
       "\n",
       ".vega-embed .vega-actions > a:hover {\n",
       "    color: #000;\n",
       "    text-decoration: underline;\n",
       "}\n",
       "\n",
       ".vega-embed:hover .vega-actions > a {\n",
       "    opacity: 1;\n",
       "    transition: 0s;\n",
       "}\n",
       "\n",
       ".vega-embed .error p {\n",
       "    color: firebrick;\n",
       "    font-size: 1.2em;\n",
       "}\n",
       "</style>\n"
      ]
     },
     "metadata": {
      "jupyter-vega3": "#6499edbb-432a-43b0-8a30-1d7e01831149"
     },
     "output_type": "display_data"
    },
    {
     "data": {
      "application/javascript": [
       "var spec = {\"mark\": \"bar\", \"encoding\": {\"x\": {\"field\": \"smoker\", \"type\": \"nominal\"}, \"y\": {\"field\": \"total_bill\", \"type\": \"quantitative\"}}, \"$schema\": \"https://vega.github.io/schema/vega-lite/v2.json\", \"width\": 450, \"height\": 300, \"selection\": {\"grid\": {\"type\": \"interval\", \"bind\": \"scales\"}}, \"data\": {\"values\": [{\"smoker\": \"Yes\", \"total_bill\": 20.756344086021507}, {\"smoker\": \"No\", \"total_bill\": 19.18827814569537}]}};\n",
       "var opt = {};\n",
       "var selector = \"#6499edbb-432a-43b0-8a30-1d7e01831149\";\n",
       "var type = \"vega-lite\";\n",
       "\n",
       "var output_area = this;\n",
       "\n",
       "require(['nbextensions/jupyter-vega3/index'], function(vega) {\n",
       "  vega.render(selector, spec, type, opt, output_area);\n",
       "}, function (err) {\n",
       "  if (err.requireType !== 'scripterror') {\n",
       "    throw(err);\n",
       "  }\n",
       "});\n"
      ]
     },
     "metadata": {
      "jupyter-vega3": "#6499edbb-432a-43b0-8a30-1d7e01831149"
     },
     "output_type": "display_data"
    },
    {
     "data": {
      "image/png": "[encoded data removed]"
     },
     "metadata": {
      "jupyter-vega3": "#6499edbb-432a-43b0-8a30-1d7e01831149"
     },
     "output_type": "display_data"
    }
   ],
   "source": [
    "s.vgplot.bar()"
   ]
  },
  {
   "cell_type": "code",
   "execution_count": 36,
   "metadata": {},
   "outputs": [],
   "source": [
    "import numpy as np"
   ]
  },
  {
   "cell_type": "code",
   "execution_count": 38,
   "metadata": {},
   "outputs": [
    {
     "data": {
      "text/html": [
       "<div>\n",
       "<style scoped>\n",
       "    .dataframe tbody tr th:only-of-type {\n",
       "        vertical-align: middle;\n",
       "    }\n",
       "\n",
       "    .dataframe tbody tr th {\n",
       "        vertical-align: top;\n",
       "    }\n",
       "\n",
       "    .dataframe thead tr th {\n",
       "        text-align: left;\n",
       "    }\n",
       "\n",
       "    .dataframe thead tr:last-of-type th {\n",
       "        text-align: right;\n",
       "    }\n",
       "</style>\n",
       "<table border=\"1\" class=\"dataframe\">\n",
       "  <thead>\n",
       "    <tr>\n",
       "      <th></th>\n",
       "      <th colspan=\"3\" halign=\"left\">size</th>\n",
       "      <th colspan=\"3\" halign=\"left\">tip</th>\n",
       "      <th colspan=\"3\" halign=\"left\">total_bill</th>\n",
       "    </tr>\n",
       "    <tr>\n",
       "      <th>sex</th>\n",
       "      <th>Male</th>\n",
       "      <th>Female</th>\n",
       "      <th>All</th>\n",
       "      <th>Male</th>\n",
       "      <th>Female</th>\n",
       "      <th>All</th>\n",
       "      <th>Male</th>\n",
       "      <th>Female</th>\n",
       "      <th>All</th>\n",
       "    </tr>\n",
       "    <tr>\n",
       "      <th>smoker</th>\n",
       "      <th></th>\n",
       "      <th></th>\n",
       "      <th></th>\n",
       "      <th></th>\n",
       "      <th></th>\n",
       "      <th></th>\n",
       "      <th></th>\n",
       "      <th></th>\n",
       "      <th></th>\n",
       "    </tr>\n",
       "  </thead>\n",
       "  <tbody>\n",
       "    <tr>\n",
       "      <th>Yes</th>\n",
       "      <td>150</td>\n",
       "      <td>74</td>\n",
       "      <td>224</td>\n",
       "      <td>183.07</td>\n",
       "      <td>96.74</td>\n",
       "      <td>279.81</td>\n",
       "      <td>1337.07</td>\n",
       "      <td>593.27</td>\n",
       "      <td>1930.34</td>\n",
       "    </tr>\n",
       "    <tr>\n",
       "      <th>No</th>\n",
       "      <td>263</td>\n",
       "      <td>140</td>\n",
       "      <td>403</td>\n",
       "      <td>302.00</td>\n",
       "      <td>149.77</td>\n",
       "      <td>451.77</td>\n",
       "      <td>1919.75</td>\n",
       "      <td>977.68</td>\n",
       "      <td>2897.43</td>\n",
       "    </tr>\n",
       "    <tr>\n",
       "      <th>All</th>\n",
       "      <td>413</td>\n",
       "      <td>214</td>\n",
       "      <td>627</td>\n",
       "      <td>485.07</td>\n",
       "      <td>246.51</td>\n",
       "      <td>731.58</td>\n",
       "      <td>3256.82</td>\n",
       "      <td>1570.95</td>\n",
       "      <td>4827.77</td>\n",
       "    </tr>\n",
       "  </tbody>\n",
       "</table>\n",
       "</div>"
      ],
      "text/plain": [
       "       size                 tip                 total_bill                  \n",
       "sex    Male Female  All    Male  Female     All       Male   Female      All\n",
       "smoker                                                                      \n",
       "Yes     150     74  224  183.07   96.74  279.81    1337.07   593.27  1930.34\n",
       "No      263    140  403  302.00  149.77  451.77    1919.75   977.68  2897.43\n",
       "All     413    214  627  485.07  246.51  731.58    3256.82  1570.95  4827.77"
      ]
     },
     "execution_count": 38,
     "metadata": {},
     "output_type": "execute_result"
    }
   ],
   "source": [
    "tips.pivot_table(index='smoker',columns='sex',aggfunc=np.sum,margins=True)"
   ]
  },
  {
   "cell_type": "code",
   "execution_count": 46,
   "metadata": {},
   "outputs": [],
   "source": [
    "import pandas as pd"
   ]
  },
  {
   "cell_type": "code",
   "execution_count": 55,
   "metadata": {},
   "outputs": [
    {
     "data": {
      "text/html": [
       "<div>\n",
       "<style scoped>\n",
       "    .dataframe tbody tr th:only-of-type {\n",
       "        vertical-align: middle;\n",
       "    }\n",
       "\n",
       "    .dataframe tbody tr th {\n",
       "        vertical-align: top;\n",
       "    }\n",
       "\n",
       "    .dataframe thead tr th {\n",
       "        text-align: left;\n",
       "    }\n",
       "\n",
       "    .dataframe thead tr:last-of-type th {\n",
       "        text-align: right;\n",
       "    }\n",
       "</style>\n",
       "<table border=\"1\" class=\"dataframe\">\n",
       "  <thead>\n",
       "    <tr>\n",
       "      <th>sex</th>\n",
       "      <th colspan=\"2\" halign=\"left\">Male</th>\n",
       "      <th colspan=\"2\" halign=\"left\">Female</th>\n",
       "    </tr>\n",
       "    <tr>\n",
       "      <th>time</th>\n",
       "      <th>Lunch</th>\n",
       "      <th>Dinner</th>\n",
       "      <th>Lunch</th>\n",
       "      <th>Dinner</th>\n",
       "    </tr>\n",
       "    <tr>\n",
       "      <th>smoker</th>\n",
       "      <th></th>\n",
       "      <th></th>\n",
       "      <th></th>\n",
       "      <th></th>\n",
       "    </tr>\n",
       "  </thead>\n",
       "  <tbody>\n",
       "    <tr>\n",
       "      <th>Yes</th>\n",
       "      <td>2.790769</td>\n",
       "      <td>3.123191</td>\n",
       "      <td>2.8910</td>\n",
       "      <td>2.949130</td>\n",
       "    </tr>\n",
       "    <tr>\n",
       "      <th>No</th>\n",
       "      <td>2.941500</td>\n",
       "      <td>3.158052</td>\n",
       "      <td>2.4596</td>\n",
       "      <td>3.044138</td>\n",
       "    </tr>\n",
       "  </tbody>\n",
       "</table>\n",
       "</div>"
      ],
      "text/plain": [
       "sex         Male            Female          \n",
       "time       Lunch    Dinner   Lunch    Dinner\n",
       "smoker                                      \n",
       "Yes     2.790769  3.123191  2.8910  2.949130\n",
       "No      2.941500  3.158052  2.4596  3.044138"
      ]
     },
     "execution_count": 55,
     "metadata": {},
     "output_type": "execute_result"
    }
   ],
   "source": [
    "pd.crosstab(tips.smoker, [tips.sex,tips.time],tips.tip, aggfunc=np.mean)"
   ]
  },
  {
   "cell_type": "code",
   "execution_count": 58,
   "metadata": {},
   "outputs": [
    {
     "data": {
      "text/html": [
       "<div>\n",
       "<style scoped>\n",
       "    .dataframe tbody tr th:only-of-type {\n",
       "        vertical-align: middle;\n",
       "    }\n",
       "\n",
       "    .dataframe tbody tr th {\n",
       "        vertical-align: top;\n",
       "    }\n",
       "\n",
       "    .dataframe thead th {\n",
       "        text-align: right;\n",
       "    }\n",
       "</style>\n",
       "<table border=\"1\" class=\"dataframe\">\n",
       "  <thead>\n",
       "    <tr style=\"text-align: right;\">\n",
       "      <th></th>\n",
       "      <th>time</th>\n",
       "      <th>Lunch</th>\n",
       "      <th>Dinner</th>\n",
       "    </tr>\n",
       "    <tr>\n",
       "      <th>smoker</th>\n",
       "      <th>sex</th>\n",
       "      <th></th>\n",
       "      <th></th>\n",
       "    </tr>\n",
       "  </thead>\n",
       "  <tbody>\n",
       "    <tr>\n",
       "      <th rowspan=\"2\" valign=\"top\">Yes</th>\n",
       "      <th>Male</th>\n",
       "      <td>2.790769</td>\n",
       "      <td>3.123191</td>\n",
       "    </tr>\n",
       "    <tr>\n",
       "      <th>Female</th>\n",
       "      <td>2.891000</td>\n",
       "      <td>2.949130</td>\n",
       "    </tr>\n",
       "    <tr>\n",
       "      <th rowspan=\"2\" valign=\"top\">No</th>\n",
       "      <th>Male</th>\n",
       "      <td>2.941500</td>\n",
       "      <td>3.158052</td>\n",
       "    </tr>\n",
       "    <tr>\n",
       "      <th>Female</th>\n",
       "      <td>2.459600</td>\n",
       "      <td>3.044138</td>\n",
       "    </tr>\n",
       "  </tbody>\n",
       "</table>\n",
       "</div>"
      ],
      "text/plain": [
       "time              Lunch    Dinner\n",
       "smoker sex                       \n",
       "Yes    Male    2.790769  3.123191\n",
       "       Female  2.891000  2.949130\n",
       "No     Male    2.941500  3.158052\n",
       "       Female  2.459600  3.044138"
      ]
     },
     "execution_count": 58,
     "metadata": {},
     "output_type": "execute_result"
    }
   ],
   "source": [
    "pd.crosstab([tips.smoker,tips.sex],tips.time,tips.tip, aggfunc=np.mean)"
   ]
  },
  {
   "cell_type": "code",
   "execution_count": 59,
   "metadata": {},
   "outputs": [
    {
     "data": {
      "text/plain": [
       "MultiIndex(levels=[['Yes', 'No'], ['Male', 'Female']],\n",
       "           codes=[[0, 0, 1, 1], [0, 1, 0, 1]],\n",
       "           names=['smoker', 'sex'])"
      ]
     },
     "execution_count": 59,
     "metadata": {},
     "output_type": "execute_result"
    }
   ],
   "source": [
    "pd.crosstab([tips.smoker,tips.sex],tips.time,tips.tip, aggfunc=np.mean).index"
   ]
  },
  {
   "cell_type": "code",
   "execution_count": 45,
   "metadata": {},
   "outputs": [
    {
     "data": {
      "text/html": [
       "<div>\n",
       "<style scoped>\n",
       "    .dataframe tbody tr th:only-of-type {\n",
       "        vertical-align: middle;\n",
       "    }\n",
       "\n",
       "    .dataframe tbody tr th {\n",
       "        vertical-align: top;\n",
       "    }\n",
       "\n",
       "    .dataframe thead th {\n",
       "        text-align: right;\n",
       "    }\n",
       "</style>\n",
       "<table border=\"1\" class=\"dataframe\">\n",
       "  <thead>\n",
       "    <tr style=\"text-align: right;\">\n",
       "      <th>smoker</th>\n",
       "      <th>Yes</th>\n",
       "      <th>No</th>\n",
       "    </tr>\n",
       "    <tr>\n",
       "      <th>sex</th>\n",
       "      <th></th>\n",
       "      <th></th>\n",
       "    </tr>\n",
       "  </thead>\n",
       "  <tbody>\n",
       "    <tr>\n",
       "      <th>Male</th>\n",
       "      <td>3.051167</td>\n",
       "      <td>3.113402</td>\n",
       "    </tr>\n",
       "    <tr>\n",
       "      <th>Female</th>\n",
       "      <td>2.931515</td>\n",
       "      <td>2.773519</td>\n",
       "    </tr>\n",
       "  </tbody>\n",
       "</table>\n",
       "</div>"
      ],
      "text/plain": [
       "smoker       Yes        No\n",
       "sex                       \n",
       "Male    3.051167  3.113402\n",
       "Female  2.931515  2.773519"
      ]
     },
     "execution_count": 45,
     "metadata": {},
     "output_type": "execute_result"
    }
   ],
   "source": [
    "pd.crosstab(tips.sex,tips.smoker,tips.tip,aggfunc='mean')"
   ]
  },
  {
   "cell_type": "code",
   "execution_count": 60,
   "metadata": {},
   "outputs": [],
   "source": [
    "x = pd.crosstab([tips.smoker,tips.sex],tips.time,tips.tip, aggfunc=np.mean).index"
   ]
  },
  {
   "cell_type": "code",
   "execution_count": 64,
   "metadata": {},
   "outputs": [
    {
     "name": "stderr",
     "output_type": "stream",
     "text": [
      "C:\\ProgramData\\Anaconda3\\lib\\site-packages\\ipykernel_launcher.py:1: FutureWarning: .labels was deprecated in version 0.24.0. Use .codes instead.\n",
      "  \"\"\"Entry point for launching an IPython kernel.\n"
     ]
    },
    {
     "data": {
      "text/plain": [
       "FrozenNDArray([0, 0, 1, 1], dtype='int8')"
      ]
     },
     "execution_count": 64,
     "metadata": {},
     "output_type": "execute_result"
    }
   ],
   "source": [
    "x.labels[0]"
   ]
  },
  {
   "cell_type": "code",
   "execution_count": 65,
   "metadata": {},
   "outputs": [
    {
     "name": "stderr",
     "output_type": "stream",
     "text": [
      "C:\\ProgramData\\Anaconda3\\lib\\site-packages\\ipykernel_launcher.py:1: FutureWarning: .labels was deprecated in version 0.24.0. Use .codes instead.\n",
      "  \"\"\"Entry point for launching an IPython kernel.\n"
     ]
    },
    {
     "data": {
      "text/plain": [
       "['__add__',\n",
       " '__bytes__',\n",
       " '__class__',\n",
       " '__contains__',\n",
       " '__delattr__',\n",
       " '__delitem__',\n",
       " '__delslice__',\n",
       " '__dict__',\n",
       " '__dir__',\n",
       " '__doc__',\n",
       " '__eq__',\n",
       " '__format__',\n",
       " '__ge__',\n",
       " '__getattribute__',\n",
       " '__getitem__',\n",
       " '__getslice__',\n",
       " '__gt__',\n",
       " '__hash__',\n",
       " '__iadd__',\n",
       " '__imul__',\n",
       " '__init__',\n",
       " '__init_subclass__',\n",
       " '__iter__',\n",
       " '__le__',\n",
       " '__len__',\n",
       " '__lt__',\n",
       " '__module__',\n",
       " '__mul__',\n",
       " '__ne__',\n",
       " '__new__',\n",
       " '__radd__',\n",
       " '__reduce__',\n",
       " '__reduce_ex__',\n",
       " '__repr__',\n",
       " '__req__',\n",
       " '__reversed__',\n",
       " '__rmul__',\n",
       " '__setattr__',\n",
       " '__setitem__',\n",
       " '__setslice__',\n",
       " '__sizeof__',\n",
       " '__str__',\n",
       " '__subclasshook__',\n",
       " '__unicode__',\n",
       " '__weakref__',\n",
       " '_accessors',\n",
       " '_constructor',\n",
       " '_deprecations',\n",
       " '_dir_additions',\n",
       " '_dir_deletions',\n",
       " '_disabled',\n",
       " '_reset_cache',\n",
       " 'append',\n",
       " 'clear',\n",
       " 'copy',\n",
       " 'count',\n",
       " 'difference',\n",
       " 'extend',\n",
       " 'index',\n",
       " 'insert',\n",
       " 'pop',\n",
       " 'remove',\n",
       " 'reverse',\n",
       " 'sort',\n",
       " 'union']"
      ]
     },
     "execution_count": 65,
     "metadata": {},
     "output_type": "execute_result"
    }
   ],
   "source": [
    "dir(x.labels)"
   ]
  },
  {
   "cell_type": "code",
   "execution_count": 67,
   "metadata": {},
   "outputs": [
    {
     "data": {
      "text/html": [
       "<div>\n",
       "<style scoped>\n",
       "    .dataframe tbody tr th:only-of-type {\n",
       "        vertical-align: middle;\n",
       "    }\n",
       "\n",
       "    .dataframe tbody tr th {\n",
       "        vertical-align: top;\n",
       "    }\n",
       "\n",
       "    .dataframe thead th {\n",
       "        text-align: right;\n",
       "    }\n",
       "</style>\n",
       "<table border=\"1\" class=\"dataframe\">\n",
       "  <thead>\n",
       "    <tr style=\"text-align: right;\">\n",
       "      <th></th>\n",
       "      <th>index</th>\n",
       "      <th>total_bill</th>\n",
       "      <th>tip</th>\n",
       "      <th>sex</th>\n",
       "      <th>smoker</th>\n",
       "      <th>day</th>\n",
       "      <th>time</th>\n",
       "      <th>size</th>\n",
       "    </tr>\n",
       "  </thead>\n",
       "  <tbody>\n",
       "    <tr>\n",
       "      <th>0</th>\n",
       "      <td>1</td>\n",
       "      <td>10.34</td>\n",
       "      <td>1.66</td>\n",
       "      <td>Male</td>\n",
       "      <td>No</td>\n",
       "      <td>Sun</td>\n",
       "      <td>Dinner</td>\n",
       "      <td>3</td>\n",
       "    </tr>\n",
       "    <tr>\n",
       "      <th>1</th>\n",
       "      <td>2</td>\n",
       "      <td>21.01</td>\n",
       "      <td>3.50</td>\n",
       "      <td>Male</td>\n",
       "      <td>No</td>\n",
       "      <td>Sun</td>\n",
       "      <td>Dinner</td>\n",
       "      <td>3</td>\n",
       "    </tr>\n",
       "    <tr>\n",
       "      <th>2</th>\n",
       "      <td>3</td>\n",
       "      <td>23.68</td>\n",
       "      <td>3.31</td>\n",
       "      <td>Male</td>\n",
       "      <td>No</td>\n",
       "      <td>Sun</td>\n",
       "      <td>Dinner</td>\n",
       "      <td>2</td>\n",
       "    </tr>\n",
       "    <tr>\n",
       "      <th>3</th>\n",
       "      <td>5</td>\n",
       "      <td>25.29</td>\n",
       "      <td>4.71</td>\n",
       "      <td>Male</td>\n",
       "      <td>No</td>\n",
       "      <td>Sun</td>\n",
       "      <td>Dinner</td>\n",
       "      <td>4</td>\n",
       "    </tr>\n",
       "    <tr>\n",
       "      <th>4</th>\n",
       "      <td>6</td>\n",
       "      <td>8.77</td>\n",
       "      <td>2.00</td>\n",
       "      <td>Male</td>\n",
       "      <td>No</td>\n",
       "      <td>Sun</td>\n",
       "      <td>Dinner</td>\n",
       "      <td>2</td>\n",
       "    </tr>\n",
       "    <tr>\n",
       "      <th>5</th>\n",
       "      <td>7</td>\n",
       "      <td>26.88</td>\n",
       "      <td>3.12</td>\n",
       "      <td>Male</td>\n",
       "      <td>No</td>\n",
       "      <td>Sun</td>\n",
       "      <td>Dinner</td>\n",
       "      <td>4</td>\n",
       "    </tr>\n",
       "    <tr>\n",
       "      <th>6</th>\n",
       "      <td>8</td>\n",
       "      <td>15.04</td>\n",
       "      <td>1.96</td>\n",
       "      <td>Male</td>\n",
       "      <td>No</td>\n",
       "      <td>Sun</td>\n",
       "      <td>Dinner</td>\n",
       "      <td>2</td>\n",
       "    </tr>\n",
       "    <tr>\n",
       "      <th>7</th>\n",
       "      <td>9</td>\n",
       "      <td>14.78</td>\n",
       "      <td>3.23</td>\n",
       "      <td>Male</td>\n",
       "      <td>No</td>\n",
       "      <td>Sun</td>\n",
       "      <td>Dinner</td>\n",
       "      <td>2</td>\n",
       "    </tr>\n",
       "    <tr>\n",
       "      <th>8</th>\n",
       "      <td>10</td>\n",
       "      <td>10.27</td>\n",
       "      <td>1.71</td>\n",
       "      <td>Male</td>\n",
       "      <td>No</td>\n",
       "      <td>Sun</td>\n",
       "      <td>Dinner</td>\n",
       "      <td>2</td>\n",
       "    </tr>\n",
       "    <tr>\n",
       "      <th>9</th>\n",
       "      <td>12</td>\n",
       "      <td>15.42</td>\n",
       "      <td>1.57</td>\n",
       "      <td>Male</td>\n",
       "      <td>No</td>\n",
       "      <td>Sun</td>\n",
       "      <td>Dinner</td>\n",
       "      <td>2</td>\n",
       "    </tr>\n",
       "    <tr>\n",
       "      <th>10</th>\n",
       "      <td>13</td>\n",
       "      <td>18.43</td>\n",
       "      <td>3.00</td>\n",
       "      <td>Male</td>\n",
       "      <td>No</td>\n",
       "      <td>Sun</td>\n",
       "      <td>Dinner</td>\n",
       "      <td>4</td>\n",
       "    </tr>\n",
       "    <tr>\n",
       "      <th>11</th>\n",
       "      <td>15</td>\n",
       "      <td>21.58</td>\n",
       "      <td>3.92</td>\n",
       "      <td>Male</td>\n",
       "      <td>No</td>\n",
       "      <td>Sun</td>\n",
       "      <td>Dinner</td>\n",
       "      <td>2</td>\n",
       "    </tr>\n",
       "  </tbody>\n",
       "</table>\n",
       "</div>"
      ],
      "text/plain": [
       "    index  total_bill   tip   sex smoker  day    time  size\n",
       "0       1       10.34  1.66  Male     No  Sun  Dinner     3\n",
       "1       2       21.01  3.50  Male     No  Sun  Dinner     3\n",
       "2       3       23.68  3.31  Male     No  Sun  Dinner     2\n",
       "3       5       25.29  4.71  Male     No  Sun  Dinner     4\n",
       "4       6        8.77  2.00  Male     No  Sun  Dinner     2\n",
       "5       7       26.88  3.12  Male     No  Sun  Dinner     4\n",
       "6       8       15.04  1.96  Male     No  Sun  Dinner     2\n",
       "7       9       14.78  3.23  Male     No  Sun  Dinner     2\n",
       "8      10       10.27  1.71  Male     No  Sun  Dinner     2\n",
       "9      12       15.42  1.57  Male     No  Sun  Dinner     2\n",
       "10     13       18.43  3.00  Male     No  Sun  Dinner     4\n",
       "11     15       21.58  3.92  Male     No  Sun  Dinner     2"
      ]
     },
     "execution_count": 67,
     "metadata": {},
     "output_type": "execute_result"
    }
   ],
   "source": [
    "tips[tips.sex=='Male'].loc[:15].reset_index()"
   ]
  },
  {
   "cell_type": "code",
   "execution_count": 68,
   "metadata": {},
   "outputs": [],
   "source": [
    "x = tips[tips.sex=='Male'].loc[:15]"
   ]
  },
  {
   "cell_type": "code",
   "execution_count": 69,
   "metadata": {},
   "outputs": [
    {
     "data": {
      "text/html": [
       "<div>\n",
       "<style scoped>\n",
       "    .dataframe tbody tr th:only-of-type {\n",
       "        vertical-align: middle;\n",
       "    }\n",
       "\n",
       "    .dataframe tbody tr th {\n",
       "        vertical-align: top;\n",
       "    }\n",
       "\n",
       "    .dataframe thead th {\n",
       "        text-align: right;\n",
       "    }\n",
       "</style>\n",
       "<table border=\"1\" class=\"dataframe\">\n",
       "  <thead>\n",
       "    <tr style=\"text-align: right;\">\n",
       "      <th></th>\n",
       "      <th>total_bill</th>\n",
       "      <th>tip</th>\n",
       "      <th>sex</th>\n",
       "      <th>smoker</th>\n",
       "      <th>day</th>\n",
       "      <th>time</th>\n",
       "      <th>size</th>\n",
       "    </tr>\n",
       "  </thead>\n",
       "  <tbody>\n",
       "    <tr>\n",
       "      <th>0</th>\n",
       "      <td>10.34</td>\n",
       "      <td>1.66</td>\n",
       "      <td>Male</td>\n",
       "      <td>No</td>\n",
       "      <td>Sun</td>\n",
       "      <td>Dinner</td>\n",
       "      <td>3</td>\n",
       "    </tr>\n",
       "    <tr>\n",
       "      <th>1</th>\n",
       "      <td>21.01</td>\n",
       "      <td>3.50</td>\n",
       "      <td>Male</td>\n",
       "      <td>No</td>\n",
       "      <td>Sun</td>\n",
       "      <td>Dinner</td>\n",
       "      <td>3</td>\n",
       "    </tr>\n",
       "    <tr>\n",
       "      <th>2</th>\n",
       "      <td>23.68</td>\n",
       "      <td>3.31</td>\n",
       "      <td>Male</td>\n",
       "      <td>No</td>\n",
       "      <td>Sun</td>\n",
       "      <td>Dinner</td>\n",
       "      <td>2</td>\n",
       "    </tr>\n",
       "    <tr>\n",
       "      <th>3</th>\n",
       "      <td>25.29</td>\n",
       "      <td>4.71</td>\n",
       "      <td>Male</td>\n",
       "      <td>No</td>\n",
       "      <td>Sun</td>\n",
       "      <td>Dinner</td>\n",
       "      <td>4</td>\n",
       "    </tr>\n",
       "    <tr>\n",
       "      <th>4</th>\n",
       "      <td>8.77</td>\n",
       "      <td>2.00</td>\n",
       "      <td>Male</td>\n",
       "      <td>No</td>\n",
       "      <td>Sun</td>\n",
       "      <td>Dinner</td>\n",
       "      <td>2</td>\n",
       "    </tr>\n",
       "    <tr>\n",
       "      <th>5</th>\n",
       "      <td>26.88</td>\n",
       "      <td>3.12</td>\n",
       "      <td>Male</td>\n",
       "      <td>No</td>\n",
       "      <td>Sun</td>\n",
       "      <td>Dinner</td>\n",
       "      <td>4</td>\n",
       "    </tr>\n",
       "    <tr>\n",
       "      <th>6</th>\n",
       "      <td>15.04</td>\n",
       "      <td>1.96</td>\n",
       "      <td>Male</td>\n",
       "      <td>No</td>\n",
       "      <td>Sun</td>\n",
       "      <td>Dinner</td>\n",
       "      <td>2</td>\n",
       "    </tr>\n",
       "    <tr>\n",
       "      <th>7</th>\n",
       "      <td>14.78</td>\n",
       "      <td>3.23</td>\n",
       "      <td>Male</td>\n",
       "      <td>No</td>\n",
       "      <td>Sun</td>\n",
       "      <td>Dinner</td>\n",
       "      <td>2</td>\n",
       "    </tr>\n",
       "    <tr>\n",
       "      <th>8</th>\n",
       "      <td>10.27</td>\n",
       "      <td>1.71</td>\n",
       "      <td>Male</td>\n",
       "      <td>No</td>\n",
       "      <td>Sun</td>\n",
       "      <td>Dinner</td>\n",
       "      <td>2</td>\n",
       "    </tr>\n",
       "    <tr>\n",
       "      <th>9</th>\n",
       "      <td>15.42</td>\n",
       "      <td>1.57</td>\n",
       "      <td>Male</td>\n",
       "      <td>No</td>\n",
       "      <td>Sun</td>\n",
       "      <td>Dinner</td>\n",
       "      <td>2</td>\n",
       "    </tr>\n",
       "    <tr>\n",
       "      <th>10</th>\n",
       "      <td>18.43</td>\n",
       "      <td>3.00</td>\n",
       "      <td>Male</td>\n",
       "      <td>No</td>\n",
       "      <td>Sun</td>\n",
       "      <td>Dinner</td>\n",
       "      <td>4</td>\n",
       "    </tr>\n",
       "    <tr>\n",
       "      <th>11</th>\n",
       "      <td>21.58</td>\n",
       "      <td>3.92</td>\n",
       "      <td>Male</td>\n",
       "      <td>No</td>\n",
       "      <td>Sun</td>\n",
       "      <td>Dinner</td>\n",
       "      <td>2</td>\n",
       "    </tr>\n",
       "  </tbody>\n",
       "</table>\n",
       "</div>"
      ],
      "text/plain": [
       "    total_bill   tip   sex smoker  day    time  size\n",
       "0        10.34  1.66  Male     No  Sun  Dinner     3\n",
       "1        21.01  3.50  Male     No  Sun  Dinner     3\n",
       "2        23.68  3.31  Male     No  Sun  Dinner     2\n",
       "3        25.29  4.71  Male     No  Sun  Dinner     4\n",
       "4         8.77  2.00  Male     No  Sun  Dinner     2\n",
       "5        26.88  3.12  Male     No  Sun  Dinner     4\n",
       "6        15.04  1.96  Male     No  Sun  Dinner     2\n",
       "7        14.78  3.23  Male     No  Sun  Dinner     2\n",
       "8        10.27  1.71  Male     No  Sun  Dinner     2\n",
       "9        15.42  1.57  Male     No  Sun  Dinner     2\n",
       "10       18.43  3.00  Male     No  Sun  Dinner     4\n",
       "11       21.58  3.92  Male     No  Sun  Dinner     2"
      ]
     },
     "execution_count": 69,
     "metadata": {},
     "output_type": "execute_result"
    }
   ],
   "source": [
    "x.reset_index(drop=True)"
   ]
  },
  {
   "cell_type": "code",
   "execution_count": 75,
   "metadata": {},
   "outputs": [
    {
     "data": {
      "text/html": [
       "<div>\n",
       "<style scoped>\n",
       "    .dataframe tbody tr th:only-of-type {\n",
       "        vertical-align: middle;\n",
       "    }\n",
       "\n",
       "    .dataframe tbody tr th {\n",
       "        vertical-align: top;\n",
       "    }\n",
       "\n",
       "    .dataframe thead th {\n",
       "        text-align: right;\n",
       "    }\n",
       "</style>\n",
       "<table border=\"1\" class=\"dataframe\">\n",
       "  <thead>\n",
       "    <tr style=\"text-align: right;\">\n",
       "      <th></th>\n",
       "      <th>index</th>\n",
       "      <th>total_bill</th>\n",
       "      <th>tip</th>\n",
       "      <th>sex</th>\n",
       "      <th>smoker</th>\n",
       "      <th>day</th>\n",
       "      <th>time</th>\n",
       "      <th>size</th>\n",
       "    </tr>\n",
       "  </thead>\n",
       "  <tbody>\n",
       "    <tr>\n",
       "      <th>0</th>\n",
       "      <td>1</td>\n",
       "      <td>10.34</td>\n",
       "      <td>1.66</td>\n",
       "      <td>Male</td>\n",
       "      <td>No</td>\n",
       "      <td>Sun</td>\n",
       "      <td>Dinner</td>\n",
       "      <td>3</td>\n",
       "    </tr>\n",
       "    <tr>\n",
       "      <th>1</th>\n",
       "      <td>2</td>\n",
       "      <td>21.01</td>\n",
       "      <td>3.50</td>\n",
       "      <td>Male</td>\n",
       "      <td>No</td>\n",
       "      <td>Sun</td>\n",
       "      <td>Dinner</td>\n",
       "      <td>3</td>\n",
       "    </tr>\n",
       "    <tr>\n",
       "      <th>2</th>\n",
       "      <td>3</td>\n",
       "      <td>23.68</td>\n",
       "      <td>3.31</td>\n",
       "      <td>Male</td>\n",
       "      <td>No</td>\n",
       "      <td>Sun</td>\n",
       "      <td>Dinner</td>\n",
       "      <td>2</td>\n",
       "    </tr>\n",
       "    <tr>\n",
       "      <th>3</th>\n",
       "      <td>5</td>\n",
       "      <td>25.29</td>\n",
       "      <td>4.71</td>\n",
       "      <td>Male</td>\n",
       "      <td>No</td>\n",
       "      <td>Sun</td>\n",
       "      <td>Dinner</td>\n",
       "      <td>4</td>\n",
       "    </tr>\n",
       "    <tr>\n",
       "      <th>4</th>\n",
       "      <td>6</td>\n",
       "      <td>8.77</td>\n",
       "      <td>2.00</td>\n",
       "      <td>Male</td>\n",
       "      <td>No</td>\n",
       "      <td>Sun</td>\n",
       "      <td>Dinner</td>\n",
       "      <td>2</td>\n",
       "    </tr>\n",
       "    <tr>\n",
       "      <th>5</th>\n",
       "      <td>7</td>\n",
       "      <td>26.88</td>\n",
       "      <td>3.12</td>\n",
       "      <td>Male</td>\n",
       "      <td>No</td>\n",
       "      <td>Sun</td>\n",
       "      <td>Dinner</td>\n",
       "      <td>4</td>\n",
       "    </tr>\n",
       "    <tr>\n",
       "      <th>6</th>\n",
       "      <td>8</td>\n",
       "      <td>15.04</td>\n",
       "      <td>1.96</td>\n",
       "      <td>Male</td>\n",
       "      <td>No</td>\n",
       "      <td>Sun</td>\n",
       "      <td>Dinner</td>\n",
       "      <td>2</td>\n",
       "    </tr>\n",
       "    <tr>\n",
       "      <th>7</th>\n",
       "      <td>9</td>\n",
       "      <td>14.78</td>\n",
       "      <td>3.23</td>\n",
       "      <td>Male</td>\n",
       "      <td>No</td>\n",
       "      <td>Sun</td>\n",
       "      <td>Dinner</td>\n",
       "      <td>2</td>\n",
       "    </tr>\n",
       "    <tr>\n",
       "      <th>8</th>\n",
       "      <td>10</td>\n",
       "      <td>10.27</td>\n",
       "      <td>1.71</td>\n",
       "      <td>Male</td>\n",
       "      <td>No</td>\n",
       "      <td>Sun</td>\n",
       "      <td>Dinner</td>\n",
       "      <td>2</td>\n",
       "    </tr>\n",
       "    <tr>\n",
       "      <th>9</th>\n",
       "      <td>12</td>\n",
       "      <td>15.42</td>\n",
       "      <td>1.57</td>\n",
       "      <td>Male</td>\n",
       "      <td>No</td>\n",
       "      <td>Sun</td>\n",
       "      <td>Dinner</td>\n",
       "      <td>2</td>\n",
       "    </tr>\n",
       "    <tr>\n",
       "      <th>10</th>\n",
       "      <td>13</td>\n",
       "      <td>18.43</td>\n",
       "      <td>3.00</td>\n",
       "      <td>Male</td>\n",
       "      <td>No</td>\n",
       "      <td>Sun</td>\n",
       "      <td>Dinner</td>\n",
       "      <td>4</td>\n",
       "    </tr>\n",
       "    <tr>\n",
       "      <th>11</th>\n",
       "      <td>15</td>\n",
       "      <td>21.58</td>\n",
       "      <td>3.92</td>\n",
       "      <td>Male</td>\n",
       "      <td>No</td>\n",
       "      <td>Sun</td>\n",
       "      <td>Dinner</td>\n",
       "      <td>2</td>\n",
       "    </tr>\n",
       "  </tbody>\n",
       "</table>\n",
       "</div>"
      ],
      "text/plain": [
       "    index  total_bill   tip   sex smoker  day    time  size\n",
       "0       1       10.34  1.66  Male     No  Sun  Dinner     3\n",
       "1       2       21.01  3.50  Male     No  Sun  Dinner     3\n",
       "2       3       23.68  3.31  Male     No  Sun  Dinner     2\n",
       "3       5       25.29  4.71  Male     No  Sun  Dinner     4\n",
       "4       6        8.77  2.00  Male     No  Sun  Dinner     2\n",
       "5       7       26.88  3.12  Male     No  Sun  Dinner     4\n",
       "6       8       15.04  1.96  Male     No  Sun  Dinner     2\n",
       "7       9       14.78  3.23  Male     No  Sun  Dinner     2\n",
       "8      10       10.27  1.71  Male     No  Sun  Dinner     2\n",
       "9      12       15.42  1.57  Male     No  Sun  Dinner     2\n",
       "10     13       18.43  3.00  Male     No  Sun  Dinner     4\n",
       "11     15       21.58  3.92  Male     No  Sun  Dinner     2"
      ]
     },
     "execution_count": 75,
     "metadata": {},
     "output_type": "execute_result"
    }
   ],
   "source": [
    "x.reset_index(drop=False)"
   ]
  },
  {
   "cell_type": "code",
   "execution_count": 80,
   "metadata": {},
   "outputs": [
    {
     "data": {
      "text/plain": [
       "sex     smoker     \n",
       "Male    Yes     tip    3.051167\n",
       "        No      tip    3.113402\n",
       "Female  Yes     tip    2.931515\n",
       "        No      tip    2.773519\n",
       "dtype: float64"
      ]
     },
     "execution_count": 80,
     "metadata": {},
     "output_type": "execute_result"
    }
   ],
   "source": [
    "tips.groupby(['sex','smoker']).mean()[['tip']].stack()"
   ]
  },
  {
   "cell_type": "code",
   "execution_count": 82,
   "metadata": {},
   "outputs": [
    {
     "data": {
      "text/plain": [
       "     sex   \n",
       "tip  Male      3.089618\n",
       "     Female    2.833448\n",
       "dtype: float64"
      ]
     },
     "execution_count": 82,
     "metadata": {},
     "output_type": "execute_result"
    }
   ],
   "source": [
    "tips.groupby(['sex']).mean()[['tip']].unstack()"
   ]
  },
  {
   "cell_type": "code",
   "execution_count": 83,
   "metadata": {},
   "outputs": [
    {
     "data": {
      "text/plain": [
       "<matplotlib.axes._subplots.AxesSubplot at 0x2c810efc4a8>"
      ]
     },
     "execution_count": 83,
     "metadata": {},
     "output_type": "execute_result"
    },
    {
     "data": {
      "image/png": "[encoded data removed]",
      "text/plain": [
       "<Figure size 432x288 with 1 Axes>"
      ]
     },
     "metadata": {
      "needs_background": "light"
     },
     "output_type": "display_data"
    }
   ],
   "source": [
    "tips.groupby(['sex']).mean()[['tip']].unstack().plot.bar()"
   ]
  },
  {
   "cell_type": "code",
   "execution_count": 86,
   "metadata": {},
   "outputs": [
    {
     "data": {
      "text/plain": [
       "<matplotlib.axes._subplots.AxesSubplot at 0x2c810cef518>"
      ]
     },
     "execution_count": 86,
     "metadata": {},
     "output_type": "execute_result"
    },
    {
     "data": {
      "image/png": "[encoded data removed]",
      "text/plain": [
       "<Figure size 432x288 with 1 Axes>"
      ]
     },
     "metadata": {
      "needs_background": "light"
     },
     "output_type": "display_data"
    }
   ],
   "source": [
    "tips.groupby(['day']).mean()[['tip']].unstack().plot.bar(stacked=False)"
   ]
  },
  {
   "cell_type": "code",
   "execution_count": 89,
   "metadata": {},
   "outputs": [
    {
     "data": {
      "text/plain": [
       "<matplotlib.axes._subplots.AxesSubplot at 0x2c810e58470>"
      ]
     },
     "execution_count": 89,
     "metadata": {},
     "output_type": "execute_result"
    },
    {
     "data": {
      "image/png": "[encoded data removed]",
      "text/plain": [
       "<Figure size 432x288 with 1 Axes>"
      ]
     },
     "metadata": {
      "needs_background": "light"
     },
     "output_type": "display_data"
    }
   ],
   "source": [
    "tips.groupby(['day','sex']).mean()[['tip']].unstack().plot.bar(stacked=True)"
   ]
  },
  {
   "cell_type": "code",
   "execution_count": 96,
   "metadata": {},
   "outputs": [
    {
     "data": {
      "text/plain": [
       "<matplotlib.axes._subplots.AxesSubplot at 0x2c8123582b0>"
      ]
     },
     "execution_count": 96,
     "metadata": {},
     "output_type": "execute_result"
    },
    {
     "data": {
      "image/png": "[encoded data removed]",
      "text/plain": [
       "<Figure size 432x288 with 1 Axes>"
      ]
     },
     "metadata": {
      "needs_background": "light"
     },
     "output_type": "display_data"
    }
   ],
   "source": [
    "tips.groupby(['day','sex']).mean()[['tip']].plot.bar()"
   ]
  },
  {
   "cell_type": "code",
   "execution_count": 97,
   "metadata": {},
   "outputs": [
    {
     "data": {
      "text/html": [
       "<div>\n",
       "<style scoped>\n",
       "    .dataframe tbody tr th:only-of-type {\n",
       "        vertical-align: middle;\n",
       "    }\n",
       "\n",
       "    .dataframe tbody tr th {\n",
       "        vertical-align: top;\n",
       "    }\n",
       "\n",
       "    .dataframe thead th {\n",
       "        text-align: right;\n",
       "    }\n",
       "</style>\n",
       "<table border=\"1\" class=\"dataframe\">\n",
       "  <thead>\n",
       "    <tr style=\"text-align: right;\">\n",
       "      <th></th>\n",
       "      <th></th>\n",
       "      <th>tip</th>\n",
       "      <th>total_bill</th>\n",
       "    </tr>\n",
       "    <tr>\n",
       "      <th>day</th>\n",
       "      <th>sex</th>\n",
       "      <th></th>\n",
       "      <th></th>\n",
       "    </tr>\n",
       "  </thead>\n",
       "  <tbody>\n",
       "    <tr>\n",
       "      <th rowspan=\"2\" valign=\"top\">Thur</th>\n",
       "      <th>Male</th>\n",
       "      <td>2.980333</td>\n",
       "      <td>18.714667</td>\n",
       "    </tr>\n",
       "    <tr>\n",
       "      <th>Female</th>\n",
       "      <td>2.575625</td>\n",
       "      <td>16.715312</td>\n",
       "    </tr>\n",
       "    <tr>\n",
       "      <th rowspan=\"2\" valign=\"top\">Fri</th>\n",
       "      <th>Male</th>\n",
       "      <td>2.693000</td>\n",
       "      <td>19.857000</td>\n",
       "    </tr>\n",
       "    <tr>\n",
       "      <th>Female</th>\n",
       "      <td>2.781111</td>\n",
       "      <td>14.145556</td>\n",
       "    </tr>\n",
       "    <tr>\n",
       "      <th rowspan=\"2\" valign=\"top\">Sat</th>\n",
       "      <th>Male</th>\n",
       "      <td>3.083898</td>\n",
       "      <td>20.802542</td>\n",
       "    </tr>\n",
       "    <tr>\n",
       "      <th>Female</th>\n",
       "      <td>2.801786</td>\n",
       "      <td>19.680357</td>\n",
       "    </tr>\n",
       "    <tr>\n",
       "      <th rowspan=\"2\" valign=\"top\">Sun</th>\n",
       "      <th>Male</th>\n",
       "      <td>3.220345</td>\n",
       "      <td>21.887241</td>\n",
       "    </tr>\n",
       "    <tr>\n",
       "      <th>Female</th>\n",
       "      <td>3.367222</td>\n",
       "      <td>19.872222</td>\n",
       "    </tr>\n",
       "  </tbody>\n",
       "</table>\n",
       "</div>"
      ],
      "text/plain": [
       "                  tip  total_bill\n",
       "day  sex                         \n",
       "Thur Male    2.980333   18.714667\n",
       "     Female  2.575625   16.715312\n",
       "Fri  Male    2.693000   19.857000\n",
       "     Female  2.781111   14.145556\n",
       "Sat  Male    3.083898   20.802542\n",
       "     Female  2.801786   19.680357\n",
       "Sun  Male    3.220345   21.887241\n",
       "     Female  3.367222   19.872222"
      ]
     },
     "execution_count": 97,
     "metadata": {},
     "output_type": "execute_result"
    }
   ],
   "source": [
    "tips.groupby(['day','sex']).mean()[['tip','total_bill']]"
   ]
  },
  {
   "cell_type": "code",
   "execution_count": 106,
   "metadata": {},
   "outputs": [
    {
     "data": {
      "text/plain": [
       "<matplotlib.axes._subplots.AxesSubplot at 0x2c8127f7860>"
      ]
     },
     "execution_count": 106,
     "metadata": {},
     "output_type": "execute_result"
    },
    {
     "data": {
      "image/png": "[encoded data removed]",
      "text/plain": [
       "<Figure size 432x288 with 1 Axes>"
      ]
     },
     "metadata": {
      "needs_background": "light"
     },
     "output_type": "display_data"
    }
   ],
   "source": [
    "tips.groupby(['day','sex']).mean()[['tip','total_bill']].unstack().plot.bar()"
   ]
  },
  {
   "cell_type": "code",
   "execution_count": null,
   "metadata": {},
   "outputs": [],
   "source": []
  }
 ],
 "metadata": {
  "kernelspec": {
   "display_name": "Python 3",
   "language": "python",
   "name": "python3"
  },
  "language_info": {
   "codemirror_mode": {
    "name": "ipython",
    "version": 3
   },
   "file_extension": ".py",
   "mimetype": "text/x-python",
   "name": "python",
   "nbconvert_exporter": "python",
   "pygments_lexer": "ipython3",
   "version": "3.7.3"
  }
 },
 "nbformat": 4,
 "nbformat_minor": 2
}
